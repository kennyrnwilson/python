{
 "cells": [
  {
   "cell_type": "markdown",
   "id": "547d3c70",
   "metadata": {},
   "source": [
    "# Series\n",
    "A series is a sequence of values and a set of associated labels known as its index. The values can be accessed by integer or label. The following diagram describes the Series I created with the below Python code. \n",
    "\n",
    "  <img alt=\"\" src=\"./images/series.png\">"
   ]
  },
  {
   "cell_type": "code",
   "execution_count": 8,
   "id": "e2207a2f",
   "metadata": {},
   "outputs": [
    {
     "data": {
      "text/plain": [
       "Names\n",
       "John    90\n",
       "Bob     92\n",
       "Dave    60\n",
       "Will    36\n",
       "Name: Ages, dtype: int64"
      ]
     },
     "execution_count": 8,
     "metadata": {},
     "output_type": "execute_result"
    }
   ],
   "source": [
    "import pandas as pd\n",
    "s = pd.Series([45,46,30,18], index=[\"John\", \"Bob\", \"Dave\", \"Will\"])\n",
    "s.name = \"Ages\"\n",
    "s.index.name = \"Names\""
   ]
  },
  {
   "cell_type": "markdown",
   "id": "dfd9cdb3",
   "metadata": {},
   "source": [
    "## Scalar Arithmetic\n",
    "Arithmetic between a series and a scalar works as expected"
   ]
  },
  {
   "cell_type": "code",
   "execution_count": 12,
   "id": "b40f446c",
   "metadata": {},
   "outputs": [
    {
     "data": {
      "text/plain": [
       "Names\n",
       "John    45\n",
       "Bob     46\n",
       "Dave    30\n",
       "Will    18\n",
       "Name: Ages, dtype: int64"
      ]
     },
     "execution_count": 12,
     "metadata": {},
     "output_type": "execute_result"
    }
   ],
   "source": [
    "s1 = s * 2\n",
    "s1"
   ]
  },
  {
   "cell_type": "markdown",
   "id": "a0e8b9a3",
   "metadata": {},
   "source": [
    "Arithmetic between series joins on index values"
   ]
  },
  {
   "cell_type": "code",
   "execution_count": 15,
   "id": "d035c6a7",
   "metadata": {},
   "outputs": [
    {
     "data": {
      "text/plain": [
       "Bob     49\n",
       "Dave    35\n",
       "John    47\n",
       "Will    28\n",
       "dtype: int64"
      ]
     },
     "execution_count": 15,
     "metadata": {},
     "output_type": "execute_result"
    }
   ],
   "source": [
    "s2 = pd.Series({\"Will\" : 10, \"Dave\": 5, \"John\" : 2, \"Bob\" : 3 })\n",
    "\n",
    "s + s2"
   ]
  }
 ],
 "metadata": {
  "kernelspec": {
   "display_name": "Python 3 (ipykernel)",
   "language": "python",
   "name": "python3"
  },
  "language_info": {
   "codemirror_mode": {
    "name": "ipython",
    "version": 3
   },
   "file_extension": ".py",
   "mimetype": "text/x-python",
   "name": "python",
   "nbconvert_exporter": "python",
   "pygments_lexer": "ipython3",
   "version": "3.9.13"
  }
 },
 "nbformat": 4,
 "nbformat_minor": 5
}
