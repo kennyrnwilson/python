{
 "cells": [
  {
   "cell_type": "markdown",
   "id": "9f660229",
   "metadata": {},
   "source": [
    "# The ndarray\n",
    "The ndarray type is a multidimensional array that is efficient for operations on the whole"
   ]
  },
  {
   "cell_type": "markdown",
   "id": "a056c835",
   "metadata": {},
   "source": [
    "## Cheat Sheets\n",
    "## Overview\n",
    "Let us create a two dimensional array as followx"
   ]
  },
  {
   "cell_type": "code",
   "execution_count": 4,
   "id": "658770a0",
   "metadata": {},
   "outputs": [
    {
     "data": {
      "text/plain": [
       "array([[ 1,  2,  3,  4,  5],\n",
       "       [ 6,  7,  8,  8, 10],\n",
       "       [11, 12, 13, 14, 14]])"
      ]
     },
     "execution_count": 4,
     "metadata": {},
     "output_type": "execute_result"
    }
   ],
   "source": [
    "import numpy as np\n",
    "a = np.array([[1,2,3,4,5], [6,7,8,8,10],[11,12,13,14,14]])\n",
    "a"
   ]
  },
  {
   "cell_type": "markdown",
   "id": "5be30e2d",
   "metadata": {},
   "source": [
    "We can visualize this array as per the following diagram\n",
    "  <img alt=\"\" src=\"./images/ndarray.png\">\n",
    "  \n",
    "    The number of dimensions is 2 and we can check this using the **ndim** property\n",
    "#### Dimensions - ndim property"
   ]
  },
  {
   "cell_type": "code",
   "execution_count": 8,
   "id": "a70c84a5",
   "metadata": {},
   "outputs": [
    {
     "data": {
      "text/plain": [
       "2"
      ]
     },
     "execution_count": 8,
     "metadata": {},
     "output_type": "execute_result"
    }
   ],
   "source": [
    "a.ndim"
   ]
  },
  {
   "cell_type": "markdown",
   "id": "8384b1cd",
   "metadata": {},
   "source": [
    "#### Shape\n",
    "The shape give the dimension of each axis. In this example the size of the first axis, axis 0, is 3 elemements and the size of the second axis, axis 1, is 5 elements"
   ]
  },
  {
   "cell_type": "code",
   "execution_count": 9,
   "id": "5e865f63",
   "metadata": {},
   "outputs": [
    {
     "data": {
      "text/plain": [
       "(3, 5)"
      ]
     },
     "execution_count": 9,
     "metadata": {},
     "output_type": "execute_result"
    }
   ],
   "source": [
    "a.shape"
   ]
  },
  {
   "cell_type": "markdown",
   "id": "cf24ebba",
   "metadata": {},
   "source": [
    "#### Indexing\n",
    "The following access the cell at position 0 on axis0 and position 2 on axis1"
   ]
  },
  {
   "cell_type": "code",
   "execution_count": 12,
   "id": "ee209a11",
   "metadata": {},
   "outputs": [
    {
     "data": {
      "text/plain": [
       "3"
      ]
     },
     "execution_count": 12,
     "metadata": {},
     "output_type": "execute_result"
    }
   ],
   "source": [
    "a[0,2]"
   ]
  },
  {
   "cell_type": "markdown",
   "id": "f962906b",
   "metadata": {},
   "source": [
    "whereas the following accesses the cell at position 2 on axis0 and position 0 on axis"
   ]
  },
  {
   "cell_type": "code",
   "execution_count": 13,
   "id": "f3bc1f85",
   "metadata": {},
   "outputs": [
    {
     "data": {
      "text/plain": [
       "11"
      ]
     },
     "execution_count": 13,
     "metadata": {},
     "output_type": "execute_result"
    }
   ],
   "source": [
    "a[2,0]"
   ]
  },
  {
   "cell_type": "markdown",
   "id": "b42e8118",
   "metadata": {},
   "source": [
    "## Details\n",
    "### Creation\n",
    "#### From sequence \n",
    "We can create an ndarray from a sequence like object. The following creates an array with shape (3,5)"
   ]
  },
  {
   "cell_type": "code",
   "execution_count": 15,
   "id": "36ada98f",
   "metadata": {},
   "outputs": [
    {
     "data": {
      "text/plain": [
       "array([[ 1,  2,  3,  4,  5],\n",
       "       [ 6,  7,  8,  8, 10],\n",
       "       [11, 12, 13, 14, 14]])"
      ]
     },
     "execution_count": 15,
     "metadata": {},
     "output_type": "execute_result"
    }
   ],
   "source": [
    "a = np.array([[1,2,3,4,5], [6,7,8,8,10],[11,12,13,14,14]])\n",
    "a"
   ]
  },
  {
   "cell_type": "markdown",
   "id": "3490e4d0",
   "metadata": {},
   "source": [
    "#### All Zeros/Ones\n",
    "We can use the zeros/ones functions which takes either a given length for a one dimensional array or a shape for multidimensional array to create arrays of all zeros or all ones."
   ]
  },
  {
   "cell_type": "code",
   "execution_count": 16,
   "id": "4e65cb11",
   "metadata": {},
   "outputs": [
    {
     "data": {
      "text/plain": [
       "array([1., 1., 1., 1., 1.])"
      ]
     },
     "execution_count": 16,
     "metadata": {},
     "output_type": "execute_result"
    }
   ],
   "source": [
    "np.ones(5)"
   ]
  },
  {
   "cell_type": "code",
   "execution_count": 17,
   "id": "8d8ba599",
   "metadata": {},
   "outputs": [
    {
     "data": {
      "text/plain": [
       "array([[1., 1., 1.],\n",
       "       [1., 1., 1.]])"
      ]
     },
     "execution_count": 17,
     "metadata": {},
     "output_type": "execute_result"
    }
   ],
   "source": [
    "np.ones((2,3))"
   ]
  },
  {
   "cell_type": "code",
   "execution_count": 18,
   "id": "11783a3f",
   "metadata": {},
   "outputs": [
    {
     "data": {
      "text/plain": [
       "array([0., 0., 0.])"
      ]
     },
     "execution_count": 18,
     "metadata": {},
     "output_type": "execute_result"
    }
   ],
   "source": [
    "np.zeros(3)"
   ]
  },
  {
   "cell_type": "code",
   "execution_count": 20,
   "id": "416b5671",
   "metadata": {},
   "outputs": [
    {
     "data": {
      "text/plain": [
       "array([[0., 0.],\n",
       "       [0., 0.],\n",
       "       [0., 0.]])"
      ]
     },
     "execution_count": 20,
     "metadata": {},
     "output_type": "execute_result"
    }
   ],
   "source": [
    "np.zeros((3,2))"
   ]
  },
  {
   "cell_type": "markdown",
   "id": "6c8bc97b",
   "metadata": {},
   "source": [
    "#### All given value"
   ]
  },
  {
   "cell_type": "code",
   "execution_count": 24,
   "id": "fb064f15",
   "metadata": {},
   "outputs": [
    {
     "data": {
      "text/plain": [
       "array([[6, 6],\n",
       "       [6, 6],\n",
       "       [6, 6]])"
      ]
     },
     "execution_count": 24,
     "metadata": {},
     "output_type": "execute_result"
    }
   ],
   "source": [
    "np.full((3,2),6)"
   ]
  },
  {
   "cell_type": "markdown",
   "id": "4ea192fb",
   "metadata": {},
   "source": [
    "#### Identity Matrix"
   ]
  },
  {
   "cell_type": "code",
   "execution_count": 27,
   "id": "e00be313",
   "metadata": {},
   "outputs": [
    {
     "data": {
      "text/plain": [
       "array([[1., 0., 0.],\n",
       "       [0., 1., 0.],\n",
       "       [0., 0., 1.]])"
      ]
     },
     "execution_count": 27,
     "metadata": {},
     "output_type": "execute_result"
    }
   ],
   "source": [
    "np.identity(3)"
   ]
  },
  {
   "cell_type": "markdown",
   "id": "dec70d8b",
   "metadata": {},
   "source": [
    "#### Arange\n",
    "The *arange* method is the ndarray equivalent of the range method in standard Python"
   ]
  },
  {
   "cell_type": "code",
   "execution_count": 21,
   "id": "5ca34e64",
   "metadata": {},
   "outputs": [
    {
     "data": {
      "text/plain": [
       "array([0, 1, 2])"
      ]
     },
     "execution_count": 21,
     "metadata": {},
     "output_type": "execute_result"
    }
   ],
   "source": [
    "np.arange(3)"
   ]
  },
  {
   "cell_type": "markdown",
   "id": "1c921801",
   "metadata": {},
   "source": [
    "### Arithmetic on equal size arrays\n",
    "Apply the operators on individual elements"
   ]
  },
  {
   "cell_type": "code",
   "execution_count": 29,
   "id": "1b6879d2",
   "metadata": {},
   "outputs": [
    {
     "data": {
      "text/plain": [
       "array([[ 4,  6,  8],\n",
       "       [10, 12, 14]])"
      ]
     },
     "execution_count": 29,
     "metadata": {},
     "output_type": "execute_result"
    }
   ],
   "source": [
    "a = np.array([[1,2,3], [4,5,6]]); b = 2*a + 2; b"
   ]
  },
  {
   "cell_type": "code",
   "execution_count": 34,
   "id": "4c5740db",
   "metadata": {},
   "outputs": [
    {
     "data": {
      "text/plain": [
       "array([1.        , 0.5       , 0.33333333, 0.25      ])"
      ]
     },
     "execution_count": 34,
     "metadata": {},
     "output_type": "execute_result"
    }
   ],
   "source": [
    "fractions = 1.0 / np.arange(1,5); fractions"
   ]
  },
  {
   "cell_type": "markdown",
   "id": "1d9dca6e",
   "metadata": {},
   "source": [
    "### Indexing and Slicing\n",
    "Slicing an ndarray is difference from slicing a list in that the slice is a view on the ndarry. Chaning the slice, changes the source. The following code uses slice to set values into a one dimensional array"
   ]
  },
  {
   "cell_type": "code",
   "execution_count": 37,
   "id": "f5b40545",
   "metadata": {},
   "outputs": [
    {
     "data": {
      "text/plain": [
       "array([ 0,  1, 10, 10,  4])"
      ]
     },
     "execution_count": 37,
     "metadata": {},
     "output_type": "execute_result"
    }
   ],
   "source": [
    "a = np.arange(5); a[2:4] = 10; a"
   ]
  },
  {
   "cell_type": "markdown",
   "id": "617f76ab",
   "metadata": {},
   "source": [
    "#### The bare slice\n",
    "We can use the bare slice [:] to asign values to a whole slice"
   ]
  },
  {
   "cell_type": "code",
   "execution_count": 41,
   "id": "4da839dd",
   "metadata": {},
   "outputs": [
    {
     "data": {
      "text/plain": [
       "array([99, 99, 99, 99, 99])"
      ]
     },
     "execution_count": 41,
     "metadata": {},
     "output_type": "execute_result"
    }
   ],
   "source": [
    "a = np.arange(5); a[:] = 99; a"
   ]
  },
  {
   "cell_type": "markdown",
   "id": "2df322d5",
   "metadata": {},
   "source": [
    "#### Multidimensional slcing\n",
    "The following diagram shows the effects of 2 dimensional slicing\n",
    "\n",
    "  <img alt=\"\" src=\"./images/slicing.png\">"
   ]
  },
  {
   "cell_type": "code",
   "execution_count": 50,
   "id": "f1ba2135",
   "metadata": {},
   "outputs": [
    {
     "data": {
      "text/plain": [
       "array([[1, 2],\n",
       "       [6, 7]])"
      ]
     },
     "execution_count": 50,
     "metadata": {},
     "output_type": "execute_result"
    }
   ],
   "source": [
    "a = np.array([[1,2,3,4,5], [6,7,8,9,10],[11,12,13,14,14]])\n",
    "a[:2,:2]"
   ]
  },
  {
   "cell_type": "markdown",
   "id": "67f46b06",
   "metadata": {},
   "source": [
    "### Indexing Using an array of booleans\n",
    "We can use an array of booleans whose length is the same as one axis of an array to index. Consider the following example"
   ]
  },
  {
   "cell_type": "code",
   "execution_count": 7,
   "id": "7ba187e6",
   "metadata": {},
   "outputs": [
    {
     "data": {
      "text/plain": [
       "array([[ 1,  2,  3,  4,  5],\n",
       "       [ 6,  7,  8,  9, 10]])"
      ]
     },
     "execution_count": 7,
     "metadata": {},
     "output_type": "execute_result"
    }
   ],
   "source": [
    "a = np.array([[1,2,3,4,5], [6,7,8,9,10],[11,12,13,14,14]])\n",
    "bools = np.array([True,True,False])\n",
    "a[bools]"
   ]
  },
  {
   "cell_type": "markdown",
   "id": "5c02da1a",
   "metadata": {},
   "source": [
    "We can use this to do things are follows"
   ]
  },
  {
   "cell_type": "code",
   "execution_count": 10,
   "id": "4b127899",
   "metadata": {},
   "outputs": [
    {
     "data": {
      "text/plain": [
       "array([[ 1,  2,  3,  4,  5],\n",
       "       [11, 12, 13, 14, 14]])"
      ]
     },
     "execution_count": 10,
     "metadata": {},
     "output_type": "execute_result"
    }
   ],
   "source": [
    "a = np.array([[1,2,3,4,5], [6,7,8,9,10],[11,12,13,14,14]])\n",
    "index = np.array([\"Ken\", \"Bob\", \"Ken\"])\n",
    "a[index == \"Ken\"]"
   ]
  },
  {
   "cell_type": "markdown",
   "id": "45bb4225",
   "metadata": {},
   "source": [
    "We can combine the boolean array as index with slices to return columns from the matching rows"
   ]
  },
  {
   "cell_type": "code",
   "execution_count": 11,
   "id": "e0bf0f93",
   "metadata": {},
   "outputs": [
    {
     "data": {
      "text/plain": [
       "array([[ 1,  2],\n",
       "       [11, 12]])"
      ]
     },
     "execution_count": 11,
     "metadata": {},
     "output_type": "execute_result"
    }
   ],
   "source": [
    "a = np.array([[1,2,3,4,5], [6,7,8,9,10],[11,12,13,14,14]])\n",
    "index = np.array([\"Ken\", \"Bob\", \"Ken\"])\n",
    "a[index == \"Ken\", :2]"
   ]
  },
  {
   "cell_type": "markdown",
   "id": "efdde9fb",
   "metadata": {},
   "source": [
    "We can also use | to select multiple values"
   ]
  },
  {
   "cell_type": "code",
   "execution_count": 16,
   "id": "5101d55e",
   "metadata": {},
   "outputs": [
    {
     "data": {
      "text/plain": [
       "array([[1, 2],\n",
       "       [6, 7]])"
      ]
     },
     "execution_count": 16,
     "metadata": {},
     "output_type": "execute_result"
    }
   ],
   "source": [
    "a = np.array([[1,2,3,4,5], [6,7,8,9,10],[11,12,13,14,14]])\n",
    "index = np.array([\"Ken\", \"Bob\", \"Jon\"])\n",
    "a[(index == \"Ken\") | (index == \"Bob\"), :2]"
   ]
  },
  {
   "cell_type": "markdown",
   "id": "5d9a08a7",
   "metadata": {},
   "source": [
    "We can set values as well. Using a scalar will set a whole row value"
   ]
  },
  {
   "cell_type": "code",
   "execution_count": 20,
   "id": "9ab5e9a3",
   "metadata": {},
   "outputs": [
    {
     "data": {
      "text/plain": [
       "array([[33, 33, 33, 33, 33],\n",
       "       [33, 33, 33, 33, 33],\n",
       "       [11, 12, 13, 14, 14]])"
      ]
     },
     "execution_count": 20,
     "metadata": {},
     "output_type": "execute_result"
    }
   ],
   "source": [
    "a = np.array([[1,2,3,4,5], [6,7,8,9,10],[11,12,13,14,14]])\n",
    "index = np.array([\"Ken\", \"Bob\", \"Jon\"])\n",
    "a[(index == \"Ken\") | (index == \"Bob\") ] = 33\n",
    "a"
   ]
  },
  {
   "cell_type": "markdown",
   "id": "e170a471",
   "metadata": {},
   "source": [
    "### Fancy Indexing\n",
    "Unlike with slicing fancy indexing copies the data into new arrays\n",
    "#### Indexing by single  array of indices"
   ]
  },
  {
   "cell_type": "code",
   "execution_count": 23,
   "id": "b2b5ecc8",
   "metadata": {},
   "outputs": [
    {
     "data": {
      "text/plain": [
       "array([[3, 4],\n",
       "       [7, 8]])"
      ]
     },
     "execution_count": 23,
     "metadata": {},
     "output_type": "execute_result"
    }
   ],
   "source": [
    "a = np.array([[1,2], [3,4],[5,6], [7,8]])\n",
    "a[[1,3]]"
   ]
  },
  {
   "cell_type": "markdown",
   "id": "3d42b62a",
   "metadata": {},
   "source": [
    "negative indices select from the end "
   ]
  },
  {
   "cell_type": "code",
   "execution_count": 25,
   "id": "9d24c48d",
   "metadata": {},
   "outputs": [
    {
     "data": {
      "text/plain": [
       "array([[7, 8],\n",
       "       [5, 6]])"
      ]
     },
     "execution_count": 25,
     "metadata": {},
     "output_type": "execute_result"
    }
   ],
   "source": [
    "a = np.array([[1,2], [3,4],[5,6], [7,8]])\n",
    "a[[-1,-2]]"
   ]
  },
  {
   "cell_type": "markdown",
   "id": "a14e6df4",
   "metadata": {},
   "source": [
    "#### Indexing by multiple  array of indices\n",
    "The first index corresponds to axis 0 and the second to axis 1 so we have equivalent to selecting a[0,1] and a[1,1]"
   ]
  },
  {
   "cell_type": "code",
   "execution_count": 26,
   "id": "c8f0dc9e",
   "metadata": {},
   "outputs": [
    {
     "data": {
      "text/plain": [
       "array([2, 4])"
      ]
     },
     "execution_count": 26,
     "metadata": {},
     "output_type": "execute_result"
    }
   ],
   "source": [
    "a = np.array([[1,2], [3,4],[5,6], [7,8]])\n",
    "a[[0,1],[1,1]]"
   ]
  },
  {
   "cell_type": "markdown",
   "id": "52ec7a4f",
   "metadata": {},
   "source": [
    "### Misc"
   ]
  },
  {
   "cell_type": "markdown",
   "id": "b04d23a1",
   "metadata": {},
   "source": [
    "#### Reshape"
   ]
  },
  {
   "cell_type": "code",
   "execution_count": 29,
   "id": "a5dbd83b",
   "metadata": {},
   "outputs": [
    {
     "data": {
      "text/plain": [
       "array([[ 0,  1,  2],\n",
       "       [ 3,  4,  5],\n",
       "       [ 6,  7,  8],\n",
       "       [ 9, 10, 11],\n",
       "       [12, 13, 14]])"
      ]
     },
     "execution_count": 29,
     "metadata": {},
     "output_type": "execute_result"
    }
   ],
   "source": [
    "np.arange(15).reshape(5,3)"
   ]
  },
  {
   "cell_type": "markdown",
   "id": "f339adce",
   "metadata": {},
   "source": [
    "### Vectorisation\n",
    "#### Mesh \n",
    "The mesh function takes two one dimensional arrays and creates two 2-d arrays of all combinations of the two arrays. "
   ]
  },
  {
   "cell_type": "code",
   "execution_count": 33,
   "id": "48bc92a1",
   "metadata": {},
   "outputs": [
    {
     "name": "stdout",
     "output_type": "stream",
     "text": [
      "[[1 2 3 4]\n",
      " [1 2 3 4]\n",
      " [1 2 3 4]\n",
      " [1 2 3 4]]\n",
      "[[1 1 1 1]\n",
      " [2 2 2 2]\n",
      " [3 3 3 3]\n",
      " [4 4 4 4]]\n"
     ]
    }
   ],
   "source": [
    "a = [1,2,3,4]\n",
    "x,y = np.meshgrid(a,a)\n",
    "print(b)\n",
    "print(c)"
   ]
  },
  {
   "cell_type": "markdown",
   "id": "828f4a42",
   "metadata": {},
   "source": [
    "We could use this to calculate $ \\sqrt{x^2+y^2} $ as follows"
   ]
  },
  {
   "cell_type": "code",
   "execution_count": 34,
   "id": "a0087861",
   "metadata": {},
   "outputs": [
    {
     "data": {
      "text/plain": [
       "array([[1.41421356, 2.23606798, 3.16227766, 4.12310563],\n",
       "       [2.23606798, 2.82842712, 3.60555128, 4.47213595],\n",
       "       [3.16227766, 3.60555128, 4.24264069, 5.        ],\n",
       "       [4.12310563, 4.47213595, 5.        , 5.65685425]])"
      ]
     },
     "execution_count": 34,
     "metadata": {},
     "output_type": "execute_result"
    }
   ],
   "source": [
    "np.sqrt(x**2 + y**2)"
   ]
  },
  {
   "cell_type": "markdown",
   "id": "1306c322",
   "metadata": {},
   "source": [
    "### Random Walks"
   ]
  },
  {
   "cell_type": "code",
   "execution_count": 68,
   "id": "fbd97e87",
   "metadata": {},
   "outputs": [
    {
     "data": {
      "text/plain": [
       "[<matplotlib.lines.Line2D at 0x1c1f790d820>,\n",
       " <matplotlib.lines.Line2D at 0x1c1f790d220>,\n",
       " <matplotlib.lines.Line2D at 0x1c1f790d910>,\n",
       " <matplotlib.lines.Line2D at 0x1c1f790d940>,\n",
       " <matplotlib.lines.Line2D at 0x1c1f790daf0>]"
      ]
     },
     "execution_count": 68,
     "metadata": {},
     "output_type": "execute_result"
    },
    {
     "data": {
      "image/png": "[encoded data removed]",
      "text/plain": [
       "<Figure size 640x480 with 1 Axes>"
      ]
     },
     "metadata": {},
     "output_type": "display_data"
    }
   ],
   "source": [
    "import matplotlib.pyplot as plt\n",
    "\n",
    "# Initialize the random number generator\n",
    "rng = np.random.default_rng(seed=123)\n",
    "\n",
    "# Generate a set of coin flips, 0 is a head and 1 is a tail\n",
    "count = 1000\n",
    "flips = rng.integers(0,2, size=(5,count))\n",
    "\n",
    "# If we get a head (0) the value is 1. If we get a tail(1) the value is -1\n",
    "\n",
    "moves = np.where(flips == 0, 1, -1)\n",
    "\n",
    "randomwalk = moves.cumsum(axis=1)\n",
    "randomwalk\n",
    "\n",
    "plt.plot(randomwalk.T)\n",
    "#randomwalk\n"
   ]
  },
  {
   "cell_type": "code",
   "execution_count": null,
   "id": "2995d4d1",
   "metadata": {},
   "outputs": [],
   "source": []
  }
 ],
 "metadata": {
  "kernelspec": {
   "display_name": "Python 3 (ipykernel)",
   "language": "python",
   "name": "python3"
  },
  "language_info": {
   "codemirror_mode": {
    "name": "ipython",
    "version": 3
   },
   "file_extension": ".py",
   "mimetype": "text/x-python",
   "name": "python",
   "nbconvert_exporter": "python",
   "pygments_lexer": "ipython3",
   "version": "3.9.13"
  }
 },
 "nbformat": 4,
 "nbformat_minor": 5
}
