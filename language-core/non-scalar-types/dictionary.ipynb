{
 "cells": [
  {
   "cell_type": "markdown",
   "id": "9c59f385",
   "metadata": {},
   "source": [
    "# Dictionary\n",
    "## Cheat Sheets\n",
    "### General\n",
    "| Task     | Means | Example| Result |Notes|\n",
    "| -------- | ------- |------- |------- |------- |\n",
    "| Create Empty| Curly Brackets |```d = {}; d```|```{}```\n",
    "| Create From Sequences| dict function |```d = dict(zip([1,2,3],[4,5,6])); ```|```{1: 4, 2: 5, 3: 6}```\n",
    "| Create From Key Value Pairs| Curly Brackets |```d = {'a':1, 'b':[1,2]}; d```|```{'a': 1, 'b': [1, 2]}```\n",
    "| Create From Dictionary Comprehension|  |``` {x: x**2 for x in (1,2,3)}```|```{1: 1, 2: 4, 3: 9}```\n",
    "| Get by key| Square Brackets |```d = {'a':1, 'b':[1,2]}; d['b']```|```[1, 2]```\n",
    "| Get with default| Get Method |```d = {1:'Hit'}; print(d.get(2, \"Miss\")); print(d.get(1, \"Miss\"))```\n",
    "| Set/Insert by Key| Square Brackets |```d = {'a':1, 'b':2}; d['b'] = 20; d['c'] = 4; d ```|```{'a': 1, 'b': 20, 'c': 4}```\n",
    "| Set with default | set method | See Below ||\n",
    "| Check If Key Exists| Square Brackets |```d = {'a':1, 'b':2}; 'c' in d```|```False```\n",
    "| Delete By Key| The del keyword |```d = {'a':1, 'b':2}; del d['a']; d```|```{'b': 2}```\n",
    "| Delete and return value| Pop method |```d = {'a':1, 'b':2}; d.pop('a')```|```1```\n",
    "| Iterate Keys| The keys method |```d = {'a':1, 'b':2}; list(d.keys())```|```['a', 'b']```\n",
    "| Iterate Values| The values method |```d = {'a':1, 'b':2}; list(d.values())```|```[1, 2]```\n",
    "| Iterate Items| The items method |```d = {'a':1, 'b':2}; list(d.items())```|```[('a', 1), ('b', 2)]```\n",
    "| Merge Dicts| The update method |```d = {'a':1, 'b':2}; d.update({'b':4, 'c':5}); d```|```{'a': 1, 'b': 4, 'c': 5}```\n",
    "\n"
   ]
  },
  {
   "cell_type": "markdown",
   "id": "816aa0f7",
   "metadata": {},
   "source": [
    "### Creation\n",
    "#### Empty"
   ]
  },
  {
   "cell_type": "code",
   "execution_count": 4,
   "id": "b5a6d8cc",
   "metadata": {},
   "outputs": [
    {
     "data": {
      "text/plain": [
       "{}"
      ]
     },
     "execution_count": 4,
     "metadata": {},
     "output_type": "execute_result"
    }
   ],
   "source": [
    "d = {}; d"
   ]
  },
  {
   "cell_type": "markdown",
   "id": "27bc226e",
   "metadata": {},
   "source": [
    "#### Key Value Pairs"
   ]
  },
  {
   "cell_type": "code",
   "execution_count": 6,
   "id": "c923018a",
   "metadata": {
    "scrolled": true
   },
   "outputs": [
    {
     "data": {
      "text/plain": [
       "{'a': 1, 'b': [1, 2]}"
      ]
     },
     "execution_count": 6,
     "metadata": {},
     "output_type": "execute_result"
    }
   ],
   "source": [
    "d = {'a':1, 'b':[1,2]}; d"
   ]
  },
  {
   "cell_type": "markdown",
   "id": "125c980e",
   "metadata": {},
   "source": [
    "#### From Sequences"
   ]
  },
  {
   "cell_type": "code",
   "execution_count": 14,
   "id": "d8bcffd6",
   "metadata": {},
   "outputs": [
    {
     "data": {
      "text/plain": [
       "{1: 4, 2: 5, 3: 6}"
      ]
     },
     "execution_count": 14,
     "metadata": {},
     "output_type": "execute_result"
    }
   ],
   "source": [
    "d = dict(zip([1,2,3],[4,5,6])); d"
   ]
  },
  {
   "cell_type": "markdown",
   "id": "481abb7b",
   "metadata": {},
   "source": [
    "### Get/Set\n",
    "#### Get Value By Key "
   ]
  },
  {
   "cell_type": "code",
   "execution_count": 10,
   "id": "f4e636d3",
   "metadata": {
    "scrolled": true
   },
   "outputs": [
    {
     "data": {
      "text/plain": [
       "[1, 2]"
      ]
     },
     "execution_count": 10,
     "metadata": {},
     "output_type": "execute_result"
    }
   ],
   "source": [
    "d = {'a':1, 'b':[1,2]}; d['b']"
   ]
  },
  {
   "cell_type": "markdown",
   "id": "b6202e8c",
   "metadata": {},
   "source": [
    "#### Get with default value"
   ]
  },
  {
   "cell_type": "code",
   "execution_count": 22,
   "id": "32fde720",
   "metadata": {},
   "outputs": [
    {
     "name": "stdout",
     "output_type": "stream",
     "text": [
      "Miss\n",
      "Hit\n"
     ]
    }
   ],
   "source": [
    "d = {1:'Hit'}; print(d.get(2, \"Miss\")); print(d.get(1, \"Miss\"))"
   ]
  },
  {
   "cell_type": "markdown",
   "id": "4eb67723",
   "metadata": {},
   "source": [
    "#### Set/Insert Value By Key\n",
    "Inserts if not present"
   ]
  },
  {
   "cell_type": "code",
   "execution_count": 11,
   "id": "caff48f1",
   "metadata": {},
   "outputs": [
    {
     "data": {
      "text/plain": [
       "{'a': 1, 'b': 20, 'c': 4}"
      ]
     },
     "execution_count": 11,
     "metadata": {},
     "output_type": "execute_result"
    }
   ],
   "source": [
    "d = {'a':1, 'b':2}; d['b'] = 20; d['c'] = 4; d "
   ]
  },
  {
   "cell_type": "markdown",
   "id": "0a61c433",
   "metadata": {},
   "source": [
    "#### Set Default"
   ]
  },
  {
   "cell_type": "code",
   "execution_count": 25,
   "id": "d0cb676c",
   "metadata": {},
   "outputs": [
    {
     "data": {
      "text/plain": [
       "{3: ['Ken', 'Bob'], 4: ['Dave']}"
      ]
     },
     "execution_count": 25,
     "metadata": {},
     "output_type": "execute_result"
    }
   ],
   "source": [
    "d = {}\n",
    "l = ('Ken', 'Bob', 'Dave');\n",
    "for x in l:\n",
    "    d.setdefault(len(x),[]).append(x)\n",
    "d"
   ]
  },
  {
   "cell_type": "markdown",
   "id": "72062e12",
   "metadata": {},
   "source": [
    "### Test If Key Exists"
   ]
  },
  {
   "cell_type": "code",
   "execution_count": 13,
   "id": "a14a809a",
   "metadata": {},
   "outputs": [
    {
     "data": {
      "text/plain": [
       "False"
      ]
     },
     "execution_count": 13,
     "metadata": {},
     "output_type": "execute_result"
    }
   ],
   "source": [
    "d = {'a':1, 'b':2}; 'c' in d"
   ]
  },
  {
   "cell_type": "markdown",
   "id": "b8d9dfc6",
   "metadata": {},
   "source": [
    "### Deletion\n",
    "#### The del keyword"
   ]
  },
  {
   "cell_type": "code",
   "execution_count": 16,
   "id": "7c5be65f",
   "metadata": {},
   "outputs": [
    {
     "data": {
      "text/plain": [
       "{'b': 2}"
      ]
     },
     "execution_count": 16,
     "metadata": {},
     "output_type": "execute_result"
    }
   ],
   "source": [
    "d = {'a':1, 'b':2}; del d['a']; d"
   ]
  },
  {
   "cell_type": "markdown",
   "id": "5170a486",
   "metadata": {},
   "source": [
    "#### Delete and Return Value (Pop)"
   ]
  },
  {
   "cell_type": "code",
   "execution_count": 20,
   "id": "3493b02d",
   "metadata": {},
   "outputs": [
    {
     "data": {
      "text/plain": [
       "1"
      ]
     },
     "execution_count": 20,
     "metadata": {},
     "output_type": "execute_result"
    }
   ],
   "source": [
    "d = {'a':1, 'b':2}; d.pop('a')"
   ]
  },
  {
   "cell_type": "markdown",
   "id": "7a4e639c",
   "metadata": {},
   "source": [
    "### Iteration\n",
    "#### Keys"
   ]
  },
  {
   "cell_type": "code",
   "execution_count": 23,
   "id": "f8bc09c9",
   "metadata": {},
   "outputs": [
    {
     "data": {
      "text/plain": [
       "['a', 'b']"
      ]
     },
     "execution_count": 23,
     "metadata": {},
     "output_type": "execute_result"
    }
   ],
   "source": [
    "d = {'a':1, 'b':2}; list(d.keys())"
   ]
  },
  {
   "cell_type": "markdown",
   "id": "103eda25",
   "metadata": {},
   "source": [
    "#### Values"
   ]
  },
  {
   "cell_type": "code",
   "execution_count": 25,
   "id": "ee738215",
   "metadata": {},
   "outputs": [
    {
     "data": {
      "text/plain": [
       "[1, 2]"
      ]
     },
     "execution_count": 25,
     "metadata": {},
     "output_type": "execute_result"
    }
   ],
   "source": [
    "d = {'a':1, 'b':2}; list(d.values())"
   ]
  },
  {
   "cell_type": "markdown",
   "id": "090ba173",
   "metadata": {},
   "source": [
    "#### Items"
   ]
  },
  {
   "cell_type": "code",
   "execution_count": 26,
   "id": "9d8dc538",
   "metadata": {},
   "outputs": [
    {
     "data": {
      "text/plain": [
       "[('a', 1), ('b', 2)]"
      ]
     },
     "execution_count": 26,
     "metadata": {},
     "output_type": "execute_result"
    }
   ],
   "source": [
    "d = {'a':1, 'b':2}; list(d.items())"
   ]
  },
  {
   "cell_type": "markdown",
   "id": "6513839d",
   "metadata": {},
   "source": [
    "### Merge Dictionaries"
   ]
  },
  {
   "cell_type": "code",
   "execution_count": 29,
   "id": "39e466ba",
   "metadata": {
    "scrolled": true
   },
   "outputs": [
    {
     "data": {
      "text/plain": [
       "{'a': 1, 'b': 4, 'c': 5}"
      ]
     },
     "execution_count": 29,
     "metadata": {},
     "output_type": "execute_result"
    }
   ],
   "source": [
    "d = {'a':1, 'b':2}; d.update({'b':4, 'c':5}); d"
   ]
  },
  {
   "cell_type": "markdown",
   "id": "49411bd4",
   "metadata": {},
   "source": [
    "### Dictionary Comprehensions"
   ]
  },
  {
   "cell_type": "code",
   "execution_count": 29,
   "id": "6069d473",
   "metadata": {},
   "outputs": [
    {
     "data": {
      "text/plain": [
       "{1: 1, 2: 4, 3: 9}"
      ]
     },
     "execution_count": 29,
     "metadata": {},
     "output_type": "execute_result"
    }
   ],
   "source": [
    " {x: x**2 for x in (1,2,3)}"
   ]
  }
 ],
 "metadata": {
  "kernelspec": {
   "display_name": "Python 3 (ipykernel)",
   "language": "python",
   "name": "python3"
  },
  "language_info": {
   "codemirror_mode": {
    "name": "ipython",
    "version": 3
   },
   "file_extension": ".py",
   "mimetype": "text/x-python",
   "name": "python",
   "nbconvert_exporter": "python",
   "pygments_lexer": "ipython3",
   "version": "3.9.13"
  }
 },
 "nbformat": 4,
 "nbformat_minor": 5
}
