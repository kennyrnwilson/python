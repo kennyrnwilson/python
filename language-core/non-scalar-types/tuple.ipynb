{
 "cells": [
  {
   "cell_type": "markdown",
   "id": "e3406a46",
   "metadata": {},
   "source": [
    "# Tuple\n",
    "Immutable sequence of objects \n",
    "\n",
    "## Cheat Sheet\n",
    "\n",
    "| Task     | Means | Example|\n",
    "| -------- | ------- |------- |\n",
    "| Initialization| comma separated values|```t = (3,4,5)```|\n",
    "| Create from list| tuple function    |```t = tuple([3,4,5])```|\n",
    "| Create from iterator| tuple function    |```t = tuple(\"hello\")```|\n",
    "| Concatenation| + operator    |```(1,2,3) + (4,5,6)```|\n",
    "| Length | len function    |```len((1,2,3))```|\n",
    "| Count number of occurences | count method    |```(1,2,3,1).count(1)```|\n",
    "| Duplicating a tuple n times| multiply by a scalar    |```(1,2)*3```|"
   ]
  },
  {
   "cell_type": "markdown",
   "id": "3791ba75",
   "metadata": {},
   "source": [
    "\n",
    "## Details\n",
    "### Creation\n",
    "#### Round Brackets\n",
    "We create a tuple by specifying its elements separated by commas and enclosed in round brackets (In many cases the round brackets  can be ommited)"
   ]
  },
  {
   "cell_type": "code",
   "execution_count": 2,
   "id": "33eca3d8",
   "metadata": {},
   "outputs": [
    {
     "data": {
      "text/plain": [
       "(3, 4, 5)"
      ]
     },
     "execution_count": 2,
     "metadata": {},
     "output_type": "execute_result"
    }
   ],
   "source": [
    "(3,4,5)"
   ]
  },
  {
   "cell_type": "markdown",
   "id": "0e9ace0a",
   "metadata": {},
   "source": [
    "#### From list using tuple function"
   ]
  },
  {
   "cell_type": "code",
   "execution_count": 5,
   "id": "5860c53a",
   "metadata": {},
   "outputs": [
    {
     "name": "stdout",
     "output_type": "stream",
     "text": [
      "(3, 4, 5)\n",
      "('h', 'e', 'l', 'l', 'o')\n"
     ]
    }
   ],
   "source": [
    "tuple([3,4,5])"
   ]
  },
  {
   "cell_type": "markdown",
   "id": "db5ed757",
   "metadata": {},
   "source": [
    "#### From iterator using tuple function"
   ]
  },
  {
   "cell_type": "code",
   "execution_count": 6,
   "id": "b210a27e",
   "metadata": {},
   "outputs": [
    {
     "data": {
      "text/plain": [
       "('h', 'e', 'l', 'l', 'o')"
      ]
     },
     "execution_count": 6,
     "metadata": {},
     "output_type": "execute_result"
    }
   ],
   "source": [
    "tuple(\"hello\")"
   ]
  },
  {
   "cell_type": "markdown",
   "id": "ff9d5924",
   "metadata": {},
   "source": [
    "### Misc\n",
    "#### Concatenation\n",
    "We can create a new tuple by concatenating tuples with the + operator"
   ]
  },
  {
   "cell_type": "code",
   "execution_count": 8,
   "id": "208434b6",
   "metadata": {},
   "outputs": [
    {
     "data": {
      "text/plain": [
       "(1, 2, 3, 4, 5, 6)"
      ]
     },
     "execution_count": 8,
     "metadata": {},
     "output_type": "execute_result"
    }
   ],
   "source": [
    "(1,2,3) + (4,5,6)"
   ]
  },
  {
   "cell_type": "markdown",
   "id": "e000daf9",
   "metadata": {},
   "source": [
    "#### Multiplying by a scalar\n",
    "Multiplying a tuple by the scalar n creates a new tuple which is the same as concatenating the original with itslef n times"
   ]
  },
  {
   "cell_type": "code",
   "execution_count": 9,
   "id": "6a0bf83f",
   "metadata": {},
   "outputs": [
    {
     "data": {
      "text/plain": [
       "(1, 2, 1, 2, 1, 2)"
      ]
     },
     "execution_count": 9,
     "metadata": {},
     "output_type": "execute_result"
    }
   ],
   "source": [
    "(1,2) * 3"
   ]
  },
  {
   "cell_type": "markdown",
   "id": "1e4a9c81",
   "metadata": {},
   "source": [
    "###### Unpacking\n",
    "We can unpack or deconstruct tuples"
   ]
  },
  {
   "cell_type": "code",
   "execution_count": 4,
   "id": "fe7f9ab1",
   "metadata": {},
   "outputs": [
    {
     "data": {
      "text/plain": [
       "3"
      ]
     },
     "execution_count": 4,
     "metadata": {},
     "output_type": "execute_result"
    }
   ],
   "source": [
    "a, (b,c) = (1,(2,3))\n",
    "c"
   ]
  },
  {
   "cell_type": "markdown",
   "id": "c7ae0ab6",
   "metadata": {},
   "source": [
    "#### Rest/* operator\n",
    "We can using * to pick up remaining elements we don't specify"
   ]
  },
  {
   "cell_type": "code",
   "execution_count": 5,
   "id": "1b3b1827",
   "metadata": {},
   "outputs": [
    {
     "data": {
      "text/plain": [
       "[3, 4, 5, 6]"
      ]
     },
     "execution_count": 5,
     "metadata": {},
     "output_type": "execute_result"
    }
   ],
   "source": [
    "a,b,*rest = (1,2,3,4,5,6)\n",
    "rest"
   ]
  },
  {
   "cell_type": "markdown",
   "id": "e68d4d3f",
   "metadata": {},
   "source": [
    "### Length\n",
    "We obtain the length of a tuple using the count method"
   ]
  },
  {
   "cell_type": "code",
   "execution_count": 1,
   "id": "18a05d24",
   "metadata": {},
   "outputs": [
    {
     "data": {
      "text/plain": [
       "2"
      ]
     },
     "execution_count": 1,
     "metadata": {},
     "output_type": "execute_result"
    }
   ],
   "source": [
    "len((1,2))"
   ]
  },
  {
   "cell_type": "markdown",
   "id": "31bc119c",
   "metadata": {},
   "source": [
    "### Count\n",
    "Count the number of occurences"
   ]
  },
  {
   "cell_type": "code",
   "execution_count": 3,
   "id": "6f9bc9ec",
   "metadata": {},
   "outputs": [
    {
     "data": {
      "text/plain": [
       "2"
      ]
     },
     "execution_count": 3,
     "metadata": {},
     "output_type": "execute_result"
    }
   ],
   "source": [
    "(1,2,3,1).count(1)"
   ]
  },
  {
   "cell_type": "code",
   "execution_count": null,
   "id": "783bc2e9",
   "metadata": {},
   "outputs": [],
   "source": []
  }
 ],
 "metadata": {
  "kernelspec": {
   "display_name": "Python 3 (ipykernel)",
   "language": "python",
   "name": "python3"
  },
  "language_info": {
   "codemirror_mode": {
    "name": "ipython",
    "version": 3
   },
   "file_extension": ".py",
   "mimetype": "text/x-python",
   "name": "python",
   "nbconvert_exporter": "python",
   "pygments_lexer": "ipython3",
   "version": "3.9.13"
  }
 },
 "nbformat": 4,
 "nbformat_minor": 5
}
