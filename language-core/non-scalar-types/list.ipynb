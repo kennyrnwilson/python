{
 "cells": [
  {
   "cell_type": "markdown",
   "id": "40f03a1d",
   "metadata": {},
   "source": [
    "# List\n",
    "## Cheat Sheets\n",
    "#### General\n",
    "\n",
    "| Task     | Means | Example| Result |Notes|\n",
    "| -------- | ------- |------- |------- |------- |\n",
    "| Initialization| square brackets |```l = [3,4,5]```|\n",
    "| Create from tuple| list function |```list((3,4,5))```|\n",
    "| Create from iterator| list function |```list(\"Hello\")```|\n",
    "| Add one element to the end | append method |```l = [1,2,3]; l.append(4); l```|```[1,2,3,4]```| Expensive as need to shift elements right|\n",
    "| Insert at location | insert method |```l = [1,2,3]; l.insert(1,2.5); l```|\n",
    "| Remove and return element at index | pop method |```l = [1, 2, 3, 4];  l.pop(1); l```|```[1,3,4]```|\n",
    "| Remove first element of given value | remove method |```l = [1, 2, 1, 2];  l.remove(2); l```|```[1,1,2]```\n",
    "| Containment | in operator |```2 in [1, 2, 1, 2]```|```True```\n",
    "| Concatenation | + operator |```l = [1,2] + [3,4]; l```|```[1,2,3,4]```\n",
    "| Extend Existing List | entend method |```l = [1,2]; l.extend([3,4]); l```|```[1,2,3,4]```\n",
    "|Sorting | sort method |```l = [5,1,3]; l.sort(); l```|```[1,3,4]```\n",
    "\n",
    "#### Slicing\n",
    "| Task     | Means | Example| Result |Notes|\n",
    "| -------- | ------- |------- |------- |------- |\n",
    "| Slice using position start and end | square brackets |```l = [1,2,3,4]; l[1:3]```|```[2,3]```\n",
    "| Omit first index | square brackets |```l = [1,2,3,4]; l[:3]```|```[1,2,3]```\n",
    "| Omit last index | square brackets |```l = [1,2,3,4]; l[1:]```|```[2,3,4]```\n",
    "| Index Negatively | square brackets |```l = [1,2,3,4]; l[-3:-1]```|```[2, 3]```\n",
    "| Every N'th element | square brackets |```l = [1,2,3,4]; l[::2]```|```[1, 3]```\n",
    "| Reverse List| square brackets |```l = [1,2,3,4]; l[::-1]```|```[4, 3, 2, 1]```\n",
    "\n",
    "#### Comprehensions\n",
    "| Task     | Means | Example| Result |Notes|\n",
    "| -------- | ------- |------- |------- |------- |\n",
    "| Comprehensions |  |```[x ** 2 for x in (1,2,3,4,5) if x % 2 == 0]```|```[4, 16]```\n",
    "| Omit filter |  |```[x ** 2 for x in (1,2,3,4,5) ]```|```[1, 4, 9, 16, 25]```\n",
    "\n",
    "\n",
    "## Details"
   ]
  },
  {
   "cell_type": "markdown",
   "id": "1a94ae68",
   "metadata": {},
   "source": [
    "### Creation\n",
    "#### Square Brackets"
   ]
  },
  {
   "cell_type": "code",
   "execution_count": 7,
   "id": "9cb06b17",
   "metadata": {},
   "outputs": [
    {
     "data": {
      "text/plain": [
       "[3, 4, 5]"
      ]
     },
     "execution_count": 7,
     "metadata": {},
     "output_type": "execute_result"
    }
   ],
   "source": [
    "[3,4,5]"
   ]
  },
  {
   "cell_type": "markdown",
   "id": "48a3929f",
   "metadata": {},
   "source": [
    "#### From Tuple"
   ]
  },
  {
   "cell_type": "code",
   "execution_count": 12,
   "id": "13a5c6a7",
   "metadata": {},
   "outputs": [
    {
     "data": {
      "text/plain": [
       "[1, 2, 3]"
      ]
     },
     "execution_count": 12,
     "metadata": {},
     "output_type": "execute_result"
    }
   ],
   "source": [
    "list((1,2,3))"
   ]
  },
  {
   "cell_type": "markdown",
   "id": "723e6040",
   "metadata": {},
   "source": [
    "#### From Iterator"
   ]
  },
  {
   "cell_type": "code",
   "execution_count": 13,
   "id": "22786c1c",
   "metadata": {},
   "outputs": [
    {
     "data": {
      "text/plain": [
       "['H', 'e', 'l', 'l', 'o']"
      ]
     },
     "execution_count": 13,
     "metadata": {},
     "output_type": "execute_result"
    }
   ],
   "source": [
    "list(\"Hello\")"
   ]
  },
  {
   "cell_type": "markdown",
   "id": "e5fad21a",
   "metadata": {},
   "source": [
    "### Adding and Removing"
   ]
  },
  {
   "cell_type": "markdown",
   "id": "abe9b435",
   "metadata": {},
   "source": [
    "#### Append\n",
    "Add one element to the end of a list"
   ]
  },
  {
   "cell_type": "code",
   "execution_count": 19,
   "id": "284477f2",
   "metadata": {},
   "outputs": [
    {
     "data": {
      "text/plain": [
       "[1, 2, 3, 4]"
      ]
     },
     "execution_count": 19,
     "metadata": {},
     "output_type": "execute_result"
    }
   ],
   "source": [
    "l = [1,2,3]; l.append(4); l"
   ]
  },
  {
   "cell_type": "markdown",
   "id": "52a68a6c",
   "metadata": {},
   "source": [
    "#### Insert Element At Location"
   ]
  },
  {
   "cell_type": "code",
   "execution_count": 21,
   "id": "395d4cb1",
   "metadata": {},
   "outputs": [
    {
     "data": {
      "text/plain": [
       "[1, 2.5, 2, 3]"
      ]
     },
     "execution_count": 21,
     "metadata": {},
     "output_type": "execute_result"
    }
   ],
   "source": [
    "l = [1,2,3]; l.insert(1,2.5); l"
   ]
  },
  {
   "cell_type": "markdown",
   "id": "7e4f12d4",
   "metadata": {},
   "source": [
    "#### Remove and return element at give index"
   ]
  },
  {
   "cell_type": "code",
   "execution_count": 26,
   "id": "ca3af38a",
   "metadata": {
    "scrolled": true
   },
   "outputs": [
    {
     "data": {
      "text/plain": [
       "[1, 3, 4]"
      ]
     },
     "execution_count": 26,
     "metadata": {},
     "output_type": "execute_result"
    }
   ],
   "source": [
    "l = [1, 2, 3, 4];  l.pop(1); l"
   ]
  },
  {
   "cell_type": "markdown",
   "id": "c3e0916d",
   "metadata": {},
   "source": [
    "#### Remove first occurence of given value"
   ]
  },
  {
   "cell_type": "code",
   "execution_count": 29,
   "id": "f22aab16",
   "metadata": {},
   "outputs": [
    {
     "data": {
      "text/plain": [
       "[1, 1, 2]"
      ]
     },
     "execution_count": 29,
     "metadata": {},
     "output_type": "execute_result"
    }
   ],
   "source": [
    "l = [1, 2, 1, 2];  l.remove(2); l"
   ]
  },
  {
   "cell_type": "markdown",
   "id": "776ce6ae",
   "metadata": {},
   "source": [
    "### Containment"
   ]
  },
  {
   "cell_type": "code",
   "execution_count": 30,
   "id": "6d130fc1",
   "metadata": {},
   "outputs": [
    {
     "data": {
      "text/plain": [
       "True"
      ]
     },
     "execution_count": 30,
     "metadata": {},
     "output_type": "execute_result"
    }
   ],
   "source": [
    "2 in [1, 2, 1, 2]"
   ]
  },
  {
   "cell_type": "markdown",
   "id": "1330b17f",
   "metadata": {},
   "source": [
    "### Concatenation"
   ]
  },
  {
   "cell_type": "code",
   "execution_count": 31,
   "id": "0642f0d9",
   "metadata": {},
   "outputs": [
    {
     "data": {
      "text/plain": [
       "[1, 2, 3, 4]"
      ]
     },
     "execution_count": 31,
     "metadata": {},
     "output_type": "execute_result"
    }
   ],
   "source": [
    "l = [1,2] + [3,4]; l"
   ]
  },
  {
   "cell_type": "markdown",
   "id": "6f090bf3",
   "metadata": {},
   "source": [
    "### Extend existing list"
   ]
  },
  {
   "cell_type": "code",
   "execution_count": 32,
   "id": "3ca7c3cd",
   "metadata": {},
   "outputs": [
    {
     "data": {
      "text/plain": [
       "[1, 2, 3, 4]"
      ]
     },
     "execution_count": 32,
     "metadata": {},
     "output_type": "execute_result"
    }
   ],
   "source": [
    "l = [1,2]; l.extend([3,4]); l"
   ]
  },
  {
   "cell_type": "markdown",
   "id": "51be1958",
   "metadata": {},
   "source": [
    "### Sorting"
   ]
  },
  {
   "cell_type": "code",
   "execution_count": 33,
   "id": "4f194bce",
   "metadata": {},
   "outputs": [
    {
     "data": {
      "text/plain": [
       "[1, 3, 5]"
      ]
     },
     "execution_count": 33,
     "metadata": {},
     "output_type": "execute_result"
    }
   ],
   "source": [
    "l = [5,1,3]; l.sort(); l"
   ]
  },
  {
   "cell_type": "markdown",
   "id": "b8950be5",
   "metadata": {},
   "source": [
    "### Slicing\n",
    "#### Return slice inclusive of start index and exclusive of stop\n",
    "The number of elements returned is then (stop - start)"
   ]
  },
  {
   "cell_type": "code",
   "execution_count": 35,
   "id": "25d7ae45",
   "metadata": {},
   "outputs": [
    {
     "data": {
      "text/plain": [
       "[2, 3]"
      ]
     },
     "execution_count": 35,
     "metadata": {},
     "output_type": "execute_result"
    }
   ],
   "source": [
    "l = [1,2,3,4]; l[1:3]"
   ]
  },
  {
   "cell_type": "markdown",
   "id": "763da0dd",
   "metadata": {},
   "source": [
    "#### Omitting start index defaults to start of list"
   ]
  },
  {
   "cell_type": "code",
   "execution_count": 37,
   "id": "91087fc0",
   "metadata": {},
   "outputs": [
    {
     "data": {
      "text/plain": [
       "[1, 2, 3]"
      ]
     },
     "execution_count": 37,
     "metadata": {},
     "output_type": "execute_result"
    }
   ],
   "source": [
    "l = [1,2,3,4]; l[:3]"
   ]
  },
  {
   "cell_type": "markdown",
   "id": "7c966413",
   "metadata": {},
   "source": [
    "#### Omit last index defaults to end"
   ]
  },
  {
   "cell_type": "code",
   "execution_count": 38,
   "id": "357db816",
   "metadata": {},
   "outputs": [
    {
     "data": {
      "text/plain": [
       "[2, 3, 4]"
      ]
     },
     "execution_count": 38,
     "metadata": {},
     "output_type": "execute_result"
    }
   ],
   "source": [
    "l = [1,2,3,4]; l[1:]"
   ]
  },
  {
   "cell_type": "markdown",
   "id": "5bbb8496",
   "metadata": {},
   "source": [
    "#### Indexing from the end"
   ]
  },
  {
   "cell_type": "code",
   "execution_count": 49,
   "id": "5141a3a5",
   "metadata": {},
   "outputs": [
    {
     "data": {
      "text/plain": [
       "[2, 3]"
      ]
     },
     "execution_count": 49,
     "metadata": {},
     "output_type": "execute_result"
    }
   ],
   "source": [
    "l = [1,2,3,4]; l[-3:-1]"
   ]
  },
  {
   "cell_type": "markdown",
   "id": "a03e8942",
   "metadata": {},
   "source": [
    "#### Take every n'th element"
   ]
  },
  {
   "cell_type": "code",
   "execution_count": 51,
   "id": "f3700050",
   "metadata": {},
   "outputs": [
    {
     "data": {
      "text/plain": [
       "[1, 3]"
      ]
     },
     "execution_count": 51,
     "metadata": {},
     "output_type": "execute_result"
    }
   ],
   "source": [
    "l = [1,2,3,4]; l[::2]"
   ]
  },
  {
   "cell_type": "markdown",
   "id": "8a183837",
   "metadata": {},
   "source": [
    "#### Reverse list using slice notation"
   ]
  },
  {
   "cell_type": "code",
   "execution_count": 52,
   "id": "647b1bf4",
   "metadata": {},
   "outputs": [
    {
     "data": {
      "text/plain": [
       "[4, 3, 2, 1]"
      ]
     },
     "execution_count": 52,
     "metadata": {},
     "output_type": "execute_result"
    }
   ],
   "source": [
    "l = [1,2,3,4]; l[::-1]"
   ]
  },
  {
   "cell_type": "markdown",
   "id": "8ec679ce",
   "metadata": {},
   "source": [
    "### List Comprehensions"
   ]
  },
  {
   "cell_type": "markdown",
   "id": "a59ea6a8",
   "metadata": {},
   "source": [
    "#### Whole Form"
   ]
  },
  {
   "cell_type": "code",
   "execution_count": 5,
   "id": "221fba17",
   "metadata": {},
   "outputs": [
    {
     "data": {
      "text/plain": [
       "[4, 16]"
      ]
     },
     "execution_count": 5,
     "metadata": {},
     "output_type": "execute_result"
    }
   ],
   "source": [
    "[x ** 2 for x in (1,2,3,4,5) if x % 2 == 0]"
   ]
  },
  {
   "cell_type": "markdown",
   "id": "5274c0ed",
   "metadata": {},
   "source": [
    "#### Omit filter"
   ]
  },
  {
   "cell_type": "code",
   "execution_count": 8,
   "id": "dca0632c",
   "metadata": {},
   "outputs": [
    {
     "data": {
      "text/plain": [
       "[1, 4, 9, 16, 25]"
      ]
     },
     "execution_count": 8,
     "metadata": {},
     "output_type": "execute_result"
    }
   ],
   "source": [
    "[x ** 2 for x in (1,2,3,4,5) ]"
   ]
  },
  {
   "cell_type": "code",
   "execution_count": null,
   "id": "0a412f38",
   "metadata": {},
   "outputs": [],
   "source": []
  }
 ],
 "metadata": {
  "kernelspec": {
   "display_name": "Python 3 (ipykernel)",
   "language": "python",
   "name": "python3"
  },
  "language_info": {
   "codemirror_mode": {
    "name": "ipython",
    "version": 3
   },
   "file_extension": ".py",
   "mimetype": "text/x-python",
   "name": "python",
   "nbconvert_exporter": "python",
   "pygments_lexer": "ipython3",
   "version": "3.9.13"
  }
 },
 "nbformat": 4,
 "nbformat_minor": 5
}
