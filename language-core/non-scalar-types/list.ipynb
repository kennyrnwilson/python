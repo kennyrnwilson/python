{
 "cells": [
  {
   "cell_type": "markdown",
   "id": "494ddfd4",
   "metadata": {},
   "source": [
    "# List\n",
    "## Cheat Sheets\n",
    "#### General\n",
    "\n",
    "| Task     | Means | Example| Result |Notes|\n",
    "| -------- | ------- |------- |------- |------- |\n",
    "| Initialization| square brackets |```l = [3,4,5]```|\n",
    "| Create from tuple| list function |```list((3,4,5))```|\n",
    "| Create from iterator| list function |```list(\"Hello\")```|\n",
    "| Add one element to the end | append method |```l = [1,2,3]; l.append(4); l```|```[1,2,3,4]```| Expensive as need to shift elements right|\n",
    "| Insert at location | insert method |```l = [1,2,3]; l.insert(1,2.5); l```|\n",
    "| Remove and return element at index | pop method |```l = [1, 2, 3, 4];  l.pop(1); l```|```[1,3,4]```|\n",
    "| Remove first element of given value | remove method |```l = [1, 2, 1, 2];  l.remove(2); l```|```[1,1,2]```\n",
    "| Containment | in operator |```2 in [1, 2, 1, 2]```|```True```\n",
    "| Concatenation | + operator |```l = [1,2] + [3,4]; l```|```[1,2,3,4]```\n",
    "| Extend Existing List | entend method |```l = [1,2]; l.extend([3,4]); l```|```[1,2,3,4]```\n",
    "|Sorting | sort method |```l = [5,1,3]; l.sort(); l```|```[1,3,4]```\n",
    "\n",
    "#### Slicing\n",
    "| Task     | Means | Example| Result |Notes|\n",
    "| -------- | ------- |------- |------- |------- |\n",
    "| Slice using position start and end | square brackets |```l = [1,2,3,4]; l[1:3]```|```[2,3]```\n",
    "| Omit first index | square brackets |```l = [1,2,3,4]; l[:3]```|```[1,2,3]```\n",
    "| Omit last index | square brackets |```l = [1,2,3,4]; l[1:]```|```[2,3,4]```\n",
    "| Index Negatively | square brackets |```l = [1,2,3,4]; l[-3:-1]```|```[2, 3]```\n",
    "| Every N'th element | square brackets |```l = [1,2,3,4]; l[::2]```|```[1, 3]```\n",
    "| Reverse List| square brackets |```l = [1,2,3,4]; l[::-1]```|```[4, 3, 2, 1]```\n",
    "\n",
    "\n",
    "\n",
    "## Details"
   ]
  },
  {
   "cell_type": "markdown",
   "id": "df13d1b1",
   "metadata": {},
   "source": [
    "### Creation\n",
    "#### Square Brackets"
   ]
  },
  {
   "cell_type": "code",
   "execution_count": 7,
   "id": "2eba5735",
   "metadata": {},
   "outputs": [
    {
     "data": {
      "text/plain": [
       "[3, 4, 5]"
      ]
     },
     "execution_count": 7,
     "metadata": {},
     "output_type": "execute_result"
    }
   ],
   "source": [
    "[3,4,5]"
   ]
  },
  {
   "cell_type": "markdown",
   "id": "dcda516f",
   "metadata": {},
   "source": [
    "#### From Tuple"
   ]
  },
  {
   "cell_type": "code",
   "execution_count": 12,
   "id": "c7870e7d",
   "metadata": {},
   "outputs": [
    {
     "data": {
      "text/plain": [
       "[1, 2, 3]"
      ]
     },
     "execution_count": 12,
     "metadata": {},
     "output_type": "execute_result"
    }
   ],
   "source": [
    "list((1,2,3))"
   ]
  },
  {
   "cell_type": "markdown",
   "id": "9862c6bc",
   "metadata": {},
   "source": [
    "#### From Iterator"
   ]
  },
  {
   "cell_type": "code",
   "execution_count": 13,
   "id": "c39f38e3",
   "metadata": {},
   "outputs": [
    {
     "data": {
      "text/plain": [
       "['H', 'e', 'l', 'l', 'o']"
      ]
     },
     "execution_count": 13,
     "metadata": {},
     "output_type": "execute_result"
    }
   ],
   "source": [
    "list(\"Hello\")"
   ]
  },
  {
   "cell_type": "markdown",
   "id": "37318eb0",
   "metadata": {},
   "source": [
    "### Adding and Removing"
   ]
  },
  {
   "cell_type": "markdown",
   "id": "c51d3bd1",
   "metadata": {},
   "source": [
    "#### Append\n",
    "Add one element to the end of a list"
   ]
  },
  {
   "cell_type": "code",
   "execution_count": 19,
   "id": "78375550",
   "metadata": {},
   "outputs": [
    {
     "data": {
      "text/plain": [
       "[1, 2, 3, 4]"
      ]
     },
     "execution_count": 19,
     "metadata": {},
     "output_type": "execute_result"
    }
   ],
   "source": [
    "l = [1,2,3]; l.append(4); l"
   ]
  },
  {
   "cell_type": "markdown",
   "id": "75392ff1",
   "metadata": {},
   "source": [
    "#### Insert Element At Location"
   ]
  },
  {
   "cell_type": "code",
   "execution_count": 21,
   "id": "68730541",
   "metadata": {},
   "outputs": [
    {
     "data": {
      "text/plain": [
       "[1, 2.5, 2, 3]"
      ]
     },
     "execution_count": 21,
     "metadata": {},
     "output_type": "execute_result"
    }
   ],
   "source": [
    "l = [1,2,3]; l.insert(1,2.5); l"
   ]
  },
  {
   "cell_type": "markdown",
   "id": "2fc974fd",
   "metadata": {},
   "source": [
    "#### Remove and return element at give index"
   ]
  },
  {
   "cell_type": "code",
   "execution_count": 26,
   "id": "6dd75430",
   "metadata": {
    "scrolled": true
   },
   "outputs": [
    {
     "data": {
      "text/plain": [
       "[1, 3, 4]"
      ]
     },
     "execution_count": 26,
     "metadata": {},
     "output_type": "execute_result"
    }
   ],
   "source": [
    "l = [1, 2, 3, 4];  l.pop(1); l"
   ]
  },
  {
   "cell_type": "markdown",
   "id": "be2bd98b",
   "metadata": {},
   "source": [
    "#### Remove first occurence of given value"
   ]
  },
  {
   "cell_type": "code",
   "execution_count": 29,
   "id": "64dcc97c",
   "metadata": {},
   "outputs": [
    {
     "data": {
      "text/plain": [
       "[1, 1, 2]"
      ]
     },
     "execution_count": 29,
     "metadata": {},
     "output_type": "execute_result"
    }
   ],
   "source": [
    "l = [1, 2, 1, 2];  l.remove(2); l"
   ]
  },
  {
   "cell_type": "markdown",
   "id": "6c966cb2",
   "metadata": {},
   "source": [
    "### Containment"
   ]
  },
  {
   "cell_type": "code",
   "execution_count": 30,
   "id": "6579fcde",
   "metadata": {},
   "outputs": [
    {
     "data": {
      "text/plain": [
       "True"
      ]
     },
     "execution_count": 30,
     "metadata": {},
     "output_type": "execute_result"
    }
   ],
   "source": [
    "2 in [1, 2, 1, 2]"
   ]
  },
  {
   "cell_type": "markdown",
   "id": "60e7c80b",
   "metadata": {},
   "source": [
    "### Concatenation"
   ]
  },
  {
   "cell_type": "code",
   "execution_count": 31,
   "id": "94a3c91d",
   "metadata": {},
   "outputs": [
    {
     "data": {
      "text/plain": [
       "[1, 2, 3, 4]"
      ]
     },
     "execution_count": 31,
     "metadata": {},
     "output_type": "execute_result"
    }
   ],
   "source": [
    "l = [1,2] + [3,4]; l"
   ]
  },
  {
   "cell_type": "markdown",
   "id": "fcfa7ad1",
   "metadata": {},
   "source": [
    "### Extend existing list"
   ]
  },
  {
   "cell_type": "code",
   "execution_count": 32,
   "id": "09e7cb35",
   "metadata": {},
   "outputs": [
    {
     "data": {
      "text/plain": [
       "[1, 2, 3, 4]"
      ]
     },
     "execution_count": 32,
     "metadata": {},
     "output_type": "execute_result"
    }
   ],
   "source": [
    "l = [1,2]; l.extend([3,4]); l"
   ]
  },
  {
   "cell_type": "markdown",
   "id": "f95ca170",
   "metadata": {},
   "source": [
    "### Sorting"
   ]
  },
  {
   "cell_type": "code",
   "execution_count": 33,
   "id": "4173007d",
   "metadata": {},
   "outputs": [
    {
     "data": {
      "text/plain": [
       "[1, 3, 5]"
      ]
     },
     "execution_count": 33,
     "metadata": {},
     "output_type": "execute_result"
    }
   ],
   "source": [
    "l = [5,1,3]; l.sort(); l"
   ]
  },
  {
   "cell_type": "markdown",
   "id": "b498375b",
   "metadata": {},
   "source": [
    "### Slicing\n",
    "#### Return slice inclusive of start index and exclusive of stop\n",
    "The number of elements returned is then (stop - start)"
   ]
  },
  {
   "cell_type": "code",
   "execution_count": 35,
   "id": "526fbf7c",
   "metadata": {},
   "outputs": [
    {
     "data": {
      "text/plain": [
       "[2, 3]"
      ]
     },
     "execution_count": 35,
     "metadata": {},
     "output_type": "execute_result"
    }
   ],
   "source": [
    "l = [1,2,3,4]; l[1:3]"
   ]
  },
  {
   "cell_type": "markdown",
   "id": "33eee9ab",
   "metadata": {},
   "source": [
    "#### Omitting start index defaults to start of list"
   ]
  },
  {
   "cell_type": "code",
   "execution_count": 37,
   "id": "37c78056",
   "metadata": {},
   "outputs": [
    {
     "data": {
      "text/plain": [
       "[1, 2, 3]"
      ]
     },
     "execution_count": 37,
     "metadata": {},
     "output_type": "execute_result"
    }
   ],
   "source": [
    "l = [1,2,3,4]; l[:3]"
   ]
  },
  {
   "cell_type": "markdown",
   "id": "afdf6aac",
   "metadata": {},
   "source": [
    "#### Omit last index defaults to end"
   ]
  },
  {
   "cell_type": "code",
   "execution_count": 38,
   "id": "24b4d856",
   "metadata": {},
   "outputs": [
    {
     "data": {
      "text/plain": [
       "[2, 3, 4]"
      ]
     },
     "execution_count": 38,
     "metadata": {},
     "output_type": "execute_result"
    }
   ],
   "source": [
    "l = [1,2,3,4]; l[1:]"
   ]
  },
  {
   "cell_type": "markdown",
   "id": "c65449ce",
   "metadata": {},
   "source": [
    "#### Indexing from the end"
   ]
  },
  {
   "cell_type": "code",
   "execution_count": 49,
   "id": "68fc66e3",
   "metadata": {},
   "outputs": [
    {
     "data": {
      "text/plain": [
       "[2, 3]"
      ]
     },
     "execution_count": 49,
     "metadata": {},
     "output_type": "execute_result"
    }
   ],
   "source": [
    "l = [1,2,3,4]; l[-3:-1]"
   ]
  },
  {
   "cell_type": "markdown",
   "id": "4b42fc8d",
   "metadata": {},
   "source": [
    "#### Take every n'th element"
   ]
  },
  {
   "cell_type": "code",
   "execution_count": 51,
   "id": "4ef064ce",
   "metadata": {},
   "outputs": [
    {
     "data": {
      "text/plain": [
       "[1, 3]"
      ]
     },
     "execution_count": 51,
     "metadata": {},
     "output_type": "execute_result"
    }
   ],
   "source": [
    "l = [1,2,3,4]; l[::2]"
   ]
  },
  {
   "cell_type": "markdown",
   "id": "5cf8ada2",
   "metadata": {},
   "source": [
    "#### Reverse list using slice notation"
   ]
  },
  {
   "cell_type": "code",
   "execution_count": 52,
   "id": "bb4b40f3",
   "metadata": {},
   "outputs": [
    {
     "data": {
      "text/plain": [
       "[4, 3, 2, 1]"
      ]
     },
     "execution_count": 52,
     "metadata": {},
     "output_type": "execute_result"
    }
   ],
   "source": [
    "l = [1,2,3,4]; l[::-1]"
   ]
  }
 ],
 "metadata": {
  "kernelspec": {
   "display_name": "Python 3 (ipykernel)",
   "language": "python",
   "name": "python3"
  },
  "language_info": {
   "codemirror_mode": {
    "name": "ipython",
    "version": 3
   },
   "file_extension": ".py",
   "mimetype": "text/x-python",
   "name": "python",
   "nbconvert_exporter": "python",
   "pygments_lexer": "ipython3",
   "version": "3.9.13"
  }
 },
 "nbformat": 4,
 "nbformat_minor": 5
}
