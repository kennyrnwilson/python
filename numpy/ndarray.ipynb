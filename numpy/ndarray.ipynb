{
 "cells": [
  {
   "cell_type": "markdown",
   "id": "9f660229",
   "metadata": {},
   "source": [
    "# The ndarray\n",
    "The ndarray type is a multidimensional array that is efficient for operations on the whole"
   ]
  },
  {
   "cell_type": "markdown",
   "id": "a056c835",
   "metadata": {},
   "source": [
    "## Cheat Sheets\n",
    "## Overview\n",
    "Let us create a two dimensional array as followx"
   ]
  },
  {
   "cell_type": "code",
   "execution_count": 3,
   "id": "658770a0",
   "metadata": {},
   "outputs": [
    {
     "data": {
      "text/plain": [
       "array([[ 1,  2,  3,  4,  5],\n",
       "       [ 6,  7,  8,  8, 10],\n",
       "       [11, 12, 13, 14, 14]])"
      ]
     },
     "execution_count": 3,
     "metadata": {},
     "output_type": "execute_result"
    }
   ],
   "source": [
    "import numpy as np\n",
    "a = np.array([[1,2,3,4,5], [6,7,8,8,10],[11,12,13,14,14]])\n",
    "a"
   ]
  },
  {
   "cell_type": "markdown",
   "id": "5be30e2d",
   "metadata": {},
   "source": [
    "We can visualize this array as per the following diagram\n",
    "  <img alt=\"\" src=\"./images/ndarray.png\">\n",
    "  \n",
    "    The number of dimensions is 2 and we can check this using the **ndim** property\n",
    "#### Dimensions - ndim property"
   ]
  },
  {
   "cell_type": "code",
   "execution_count": 8,
   "id": "a70c84a5",
   "metadata": {},
   "outputs": [
    {
     "data": {
      "text/plain": [
       "2"
      ]
     },
     "execution_count": 8,
     "metadata": {},
     "output_type": "execute_result"
    }
   ],
   "source": [
    "a.ndim"
   ]
  },
  {
   "cell_type": "markdown",
   "id": "8384b1cd",
   "metadata": {},
   "source": [
    "#### Shape\n",
    "The shape give the dimension of each axis. In this example the size of the first axis, axis 0, is 3 elemements and the size of the second axis, axis 1, is 5 elements"
   ]
  },
  {
   "cell_type": "code",
   "execution_count": 9,
   "id": "5e865f63",
   "metadata": {},
   "outputs": [
    {
     "data": {
      "text/plain": [
       "(3, 5)"
      ]
     },
     "execution_count": 9,
     "metadata": {},
     "output_type": "execute_result"
    }
   ],
   "source": [
    "a.shape"
   ]
  },
  {
   "cell_type": "markdown",
   "id": "cf24ebba",
   "metadata": {},
   "source": [
    "#### Indexing\n",
    "The following access the cell at position 0 on axis0 and position 2 on axis1"
   ]
  },
  {
   "cell_type": "code",
   "execution_count": 12,
   "id": "ee209a11",
   "metadata": {},
   "outputs": [
    {
     "data": {
      "text/plain": [
       "3"
      ]
     },
     "execution_count": 12,
     "metadata": {},
     "output_type": "execute_result"
    }
   ],
   "source": [
    "a[0,2]"
   ]
  },
  {
   "cell_type": "markdown",
   "id": "f962906b",
   "metadata": {},
   "source": [
    "whereas the following accesses the cell at position 2 on axis0 and position 0 on axis"
   ]
  },
  {
   "cell_type": "code",
   "execution_count": 13,
   "id": "f3bc1f85",
   "metadata": {},
   "outputs": [
    {
     "data": {
      "text/plain": [
       "11"
      ]
     },
     "execution_count": 13,
     "metadata": {},
     "output_type": "execute_result"
    }
   ],
   "source": [
    "a[2,0]"
   ]
  },
  {
   "cell_type": "markdown",
   "id": "b42e8118",
   "metadata": {},
   "source": [
    "## Details\n",
    "### Creation\n",
    "#### From sequence \n",
    "We can create an ndarray from a sequence like object. The following creates an array with shape (3,5)"
   ]
  },
  {
   "cell_type": "code",
   "execution_count": 15,
   "id": "36ada98f",
   "metadata": {},
   "outputs": [
    {
     "data": {
      "text/plain": [
       "array([[ 1,  2,  3,  4,  5],\n",
       "       [ 6,  7,  8,  8, 10],\n",
       "       [11, 12, 13, 14, 14]])"
      ]
     },
     "execution_count": 15,
     "metadata": {},
     "output_type": "execute_result"
    }
   ],
   "source": [
    "a = np.array([[1,2,3,4,5], [6,7,8,8,10],[11,12,13,14,14]])\n",
    "a"
   ]
  },
  {
   "cell_type": "markdown",
   "id": "3490e4d0",
   "metadata": {},
   "source": [
    "#### All Zeros/Ones\n",
    "We can use the zeros/ones functions which takes either a given length for a one dimensional array or a shape for multidimensional array to create arrays of all zeros or all ones."
   ]
  },
  {
   "cell_type": "code",
   "execution_count": 16,
   "id": "4e65cb11",
   "metadata": {},
   "outputs": [
    {
     "data": {
      "text/plain": [
       "array([1., 1., 1., 1., 1.])"
      ]
     },
     "execution_count": 16,
     "metadata": {},
     "output_type": "execute_result"
    }
   ],
   "source": [
    "np.ones(5)"
   ]
  },
  {
   "cell_type": "code",
   "execution_count": 17,
   "id": "8d8ba599",
   "metadata": {},
   "outputs": [
    {
     "data": {
      "text/plain": [
       "array([[1., 1., 1.],\n",
       "       [1., 1., 1.]])"
      ]
     },
     "execution_count": 17,
     "metadata": {},
     "output_type": "execute_result"
    }
   ],
   "source": [
    "np.ones((2,3))"
   ]
  },
  {
   "cell_type": "code",
   "execution_count": 18,
   "id": "11783a3f",
   "metadata": {},
   "outputs": [
    {
     "data": {
      "text/plain": [
       "array([0., 0., 0.])"
      ]
     },
     "execution_count": 18,
     "metadata": {},
     "output_type": "execute_result"
    }
   ],
   "source": [
    "np.zeros(3)"
   ]
  },
  {
   "cell_type": "code",
   "execution_count": 20,
   "id": "416b5671",
   "metadata": {},
   "outputs": [
    {
     "data": {
      "text/plain": [
       "array([[0., 0.],\n",
       "       [0., 0.],\n",
       "       [0., 0.]])"
      ]
     },
     "execution_count": 20,
     "metadata": {},
     "output_type": "execute_result"
    }
   ],
   "source": [
    "np.zeros((3,2))"
   ]
  },
  {
   "cell_type": "markdown",
   "id": "6c8bc97b",
   "metadata": {},
   "source": [
    "#### All given value"
   ]
  },
  {
   "cell_type": "code",
   "execution_count": 24,
   "id": "fb064f15",
   "metadata": {},
   "outputs": [
    {
     "data": {
      "text/plain": [
       "array([[6, 6],\n",
       "       [6, 6],\n",
       "       [6, 6]])"
      ]
     },
     "execution_count": 24,
     "metadata": {},
     "output_type": "execute_result"
    }
   ],
   "source": [
    "np.full((3,2),6)"
   ]
  },
  {
   "cell_type": "markdown",
   "id": "4ea192fb",
   "metadata": {},
   "source": [
    "#### Identity Matrix"
   ]
  },
  {
   "cell_type": "code",
   "execution_count": 27,
   "id": "e00be313",
   "metadata": {},
   "outputs": [
    {
     "data": {
      "text/plain": [
       "array([[1., 0., 0.],\n",
       "       [0., 1., 0.],\n",
       "       [0., 0., 1.]])"
      ]
     },
     "execution_count": 27,
     "metadata": {},
     "output_type": "execute_result"
    }
   ],
   "source": [
    "np.identity(3)"
   ]
  },
  {
   "cell_type": "markdown",
   "id": "dec70d8b",
   "metadata": {},
   "source": [
    "#### Arange\n",
    "The *arange* method is the ndarray equivalent of the range method in standard Python"
   ]
  },
  {
   "cell_type": "code",
   "execution_count": 21,
   "id": "5ca34e64",
   "metadata": {},
   "outputs": [
    {
     "data": {
      "text/plain": [
       "array([0, 1, 2])"
      ]
     },
     "execution_count": 21,
     "metadata": {},
     "output_type": "execute_result"
    }
   ],
   "source": [
    "np.arange(3)"
   ]
  },
  {
   "cell_type": "markdown",
   "id": "1c921801",
   "metadata": {},
   "source": [
    "### Arithmetic on equal size arrays\n",
    "Apply the operators on individual elements"
   ]
  },
  {
   "cell_type": "code",
   "execution_count": 29,
   "id": "1b6879d2",
   "metadata": {},
   "outputs": [
    {
     "data": {
      "text/plain": [
       "array([[ 4,  6,  8],\n",
       "       [10, 12, 14]])"
      ]
     },
     "execution_count": 29,
     "metadata": {},
     "output_type": "execute_result"
    }
   ],
   "source": [
    "a = np.array([[1,2,3], [4,5,6]]); b = 2*a + 2; b"
   ]
  },
  {
   "cell_type": "code",
   "execution_count": 34,
   "id": "4c5740db",
   "metadata": {},
   "outputs": [
    {
     "data": {
      "text/plain": [
       "array([1.        , 0.5       , 0.33333333, 0.25      ])"
      ]
     },
     "execution_count": 34,
     "metadata": {},
     "output_type": "execute_result"
    }
   ],
   "source": [
    "fractions = 1.0 / np.arange(1,5); fractions"
   ]
  },
  {
   "cell_type": "markdown",
   "id": "1d9dca6e",
   "metadata": {},
   "source": [
    "### Indexing and Slicing\n",
    "Slicing an ndarray is difference from slicing a list in that the slice is a view on the ndarry. Chaning the slice, changes the source. The following code uses slice to set values into a one dimensional array"
   ]
  },
  {
   "cell_type": "code",
   "execution_count": 37,
   "id": "f5b40545",
   "metadata": {},
   "outputs": [
    {
     "data": {
      "text/plain": [
       "array([ 0,  1, 10, 10,  4])"
      ]
     },
     "execution_count": 37,
     "metadata": {},
     "output_type": "execute_result"
    }
   ],
   "source": [
    "a = np.arange(5); a[2:4] = 10; a"
   ]
  },
  {
   "cell_type": "markdown",
   "id": "617f76ab",
   "metadata": {},
   "source": [
    "#### The bare slice\n",
    "We can use the bare slice [:] to asign values to a whole slice"
   ]
  },
  {
   "cell_type": "code",
   "execution_count": 41,
   "id": "4da839dd",
   "metadata": {},
   "outputs": [
    {
     "data": {
      "text/plain": [
       "array([99, 99, 99, 99, 99])"
      ]
     },
     "execution_count": 41,
     "metadata": {},
     "output_type": "execute_result"
    }
   ],
   "source": [
    "a = np.arange(5); a[:] = 99; a"
   ]
  },
  {
   "cell_type": "markdown",
   "id": "2df322d5",
   "metadata": {},
   "source": [
    "#### Multidimensional slcing\n",
    "The following diagram shows the effects of 2 dimensional slicing\n",
    "\n",
    "  <img alt=\"\" src=\"./images/slicing.png\">"
   ]
  },
  {
   "cell_type": "code",
   "execution_count": 50,
   "id": "f1ba2135",
   "metadata": {},
   "outputs": [
    {
     "data": {
      "text/plain": [
       "array([[1, 2],\n",
       "       [6, 7]])"
      ]
     },
     "execution_count": 50,
     "metadata": {},
     "output_type": "execute_result"
    }
   ],
   "source": [
    "a = np.array([[1,2,3,4,5], [6,7,8,9,10],[11,12,13,14,14]])\n",
    "a[:2,:2]"
   ]
  }
 ],
 "metadata": {
  "kernelspec": {
   "display_name": "Python 3 (ipykernel)",
   "language": "python",
   "name": "python3"
  },
  "language_info": {
   "codemirror_mode": {
    "name": "ipython",
    "version": 3
   },
   "file_extension": ".py",
   "mimetype": "text/x-python",
   "name": "python",
   "nbconvert_exporter": "python",
   "pygments_lexer": "ipython3",
   "version": "3.9.13"
  }
 },
 "nbformat": 4,
 "nbformat_minor": 5
}
