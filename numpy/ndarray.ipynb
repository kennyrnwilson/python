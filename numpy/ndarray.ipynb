{
 "cells": [
  {
   "cell_type": "markdown",
   "id": "9f660229",
   "metadata": {},
   "source": [
    "# The ndarray\n",
    "The ndarray type is a multidimensional array that is efficient for operations on the whole"
   ]
  },
  {
   "cell_type": "markdown",
   "id": "a056c835",
   "metadata": {},
   "source": [
    "## Cheat Sheets\n",
    "## Overview\n",
    "Let us create a two dimensional array as followx"
   ]
  },
  {
   "cell_type": "code",
   "execution_count": 3,
   "id": "658770a0",
   "metadata": {},
   "outputs": [
    {
     "data": {
      "text/plain": [
       "array([[ 1,  2,  3,  4,  5],\n",
       "       [ 6,  7,  8,  8, 10],\n",
       "       [11, 12, 13, 14, 14]])"
      ]
     },
     "execution_count": 3,
     "metadata": {},
     "output_type": "execute_result"
    }
   ],
   "source": [
    "import numpy as np\n",
    "a = np.array([[1,2,3,4,5], [6,7,8,8,10],[11,12,13,14,14]])\n",
    "a"
   ]
  },
  {
   "cell_type": "markdown",
   "id": "5be30e2d",
   "metadata": {},
   "source": [
    "We can visualize this array as per the following diagram\n",
    "  <img alt=\"\" src=\"./images/ndarray.png\">\n",
    "  \n",
    "    The number of dimensions is 2 and we can check this using the **ndim** property\n",
    "#### Dimensions - ndim property"
   ]
  },
  {
   "cell_type": "code",
   "execution_count": 8,
   "id": "a70c84a5",
   "metadata": {},
   "outputs": [
    {
     "data": {
      "text/plain": [
       "2"
      ]
     },
     "execution_count": 8,
     "metadata": {},
     "output_type": "execute_result"
    }
   ],
   "source": [
    "a.ndim"
   ]
  },
  {
   "cell_type": "markdown",
   "id": "8384b1cd",
   "metadata": {},
   "source": [
    "#### Shape\n",
    "The shape give the dimension of each axis. In this example the size of the first axis, axis 0, is 3 elemements and the size of the second axis, axis 1, is 5 elements"
   ]
  },
  {
   "cell_type": "code",
   "execution_count": 9,
   "id": "5e865f63",
   "metadata": {},
   "outputs": [
    {
     "data": {
      "text/plain": [
       "(3, 5)"
      ]
     },
     "execution_count": 9,
     "metadata": {},
     "output_type": "execute_result"
    }
   ],
   "source": [
    "a.shape"
   ]
  },
  {
   "cell_type": "markdown",
   "id": "cf24ebba",
   "metadata": {},
   "source": [
    "#### Indexing\n",
    "The following access the cell at position 0 on axis0 and position 2 on axis1"
   ]
  },
  {
   "cell_type": "code",
   "execution_count": 12,
   "id": "ee209a11",
   "metadata": {},
   "outputs": [
    {
     "data": {
      "text/plain": [
       "3"
      ]
     },
     "execution_count": 12,
     "metadata": {},
     "output_type": "execute_result"
    }
   ],
   "source": [
    "a[0,2]"
   ]
  },
  {
   "cell_type": "markdown",
   "id": "f962906b",
   "metadata": {},
   "source": [
    "whereas the following accesses the cell at position 2 on axis0 and position 0 on axis"
   ]
  },
  {
   "cell_type": "code",
   "execution_count": 13,
   "id": "f3bc1f85",
   "metadata": {},
   "outputs": [
    {
     "data": {
      "text/plain": [
       "11"
      ]
     },
     "execution_count": 13,
     "metadata": {},
     "output_type": "execute_result"
    }
   ],
   "source": [
    "a[2,0]"
   ]
  },
  {
   "cell_type": "code",
   "execution_count": null,
   "id": "b65c76b1",
   "metadata": {},
   "outputs": [],
   "source": []
  }
 ],
 "metadata": {
  "kernelspec": {
   "display_name": "Python 3 (ipykernel)",
   "language": "python",
   "name": "python3"
  },
  "language_info": {
   "codemirror_mode": {
    "name": "ipython",
    "version": 3
   },
   "file_extension": ".py",
   "mimetype": "text/x-python",
   "name": "python",
   "nbconvert_exporter": "python",
   "pygments_lexer": "ipython3",
   "version": "3.9.13"
  }
 },
 "nbformat": 4,
 "nbformat_minor": 5
}
