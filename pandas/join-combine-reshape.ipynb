{
 "cells": [
  {
   "cell_type": "markdown",
   "id": "fe4b1b76",
   "metadata": {},
   "source": [
    "# Join, Combine, Reshape"
   ]
  },
  {
   "cell_type": "markdown",
   "id": "114c46a6",
   "metadata": {},
   "source": [
    "## Hierarchical Indices and Series objects"
   ]
  },
  {
   "cell_type": "markdown",
   "id": "1a5c955e",
   "metadata": {},
   "source": [
    "A Hierarchical index enables one to create multiple index levels on any given axis. The following example shows a simple example of how to set up a hierarchical index on a Series object "
   ]
  },
  {
   "cell_type": "code",
   "execution_count": 4,
   "id": "498d39eb",
   "metadata": {},
   "outputs": [],
   "source": [
    "import numpy as np\n",
    "import pandas as pd\n",
    "\n",
    "data = np.random.standard_normal(10)\n",
    "index = [['BT.L', 'BT.L', 'BT.L','VOD.L', 'VOD.L', 'VOD.L', '.FTSE', '.FTSE', '.FTSE', '.SX5E'], ['bid', 'ask','mid','bid', 'ask','mid','bid', 'ask','mid','bid']]\n",
    "\n",
    "series = pd.Series(data, index=index)\n",
    "series = series.sort_index()\n"
   ]
  },
  {
   "cell_type": "markdown",
   "id": "d2094fcc",
   "metadata": {},
   "source": [
    "### Index by outer level\n",
    "We can index a subset of rows by outer level key as follows\n",
    "#### (I)"
   ]
  },
  {
   "cell_type": "code",
   "execution_count": 38,
   "id": "cf3e613e",
   "metadata": {},
   "outputs": [
    {
     "data": {
      "text/plain": [
       "ask   -1.135774\n",
       "bid   -0.451556\n",
       "mid    0.194875\n",
       "dtype: float64"
      ]
     },
     "execution_count": 38,
     "metadata": {},
     "output_type": "execute_result"
    }
   ],
   "source": [
    "series[\"BT.L\"]"
   ]
  },
  {
   "cell_type": "markdown",
   "id": "cb71ed73",
   "metadata": {},
   "source": [
    "#### (II)"
   ]
  },
  {
   "cell_type": "code",
   "execution_count": 40,
   "id": "e7eb72b4",
   "metadata": {},
   "outputs": [
    {
     "data": {
      "text/plain": [
       "BT.L   ask   -1.135774\n",
       "       bid   -0.451556\n",
       "       mid    0.194875\n",
       ".SX5E  bid   -0.123017\n",
       "dtype: float64"
      ]
     },
     "execution_count": 40,
     "metadata": {},
     "output_type": "execute_result"
    }
   ],
   "source": [
    "series[['BT.L', '.SX5E']]"
   ]
  },
  {
   "cell_type": "markdown",
   "id": "f1c56591",
   "metadata": {},
   "source": [
    "#### (III)"
   ]
  },
  {
   "cell_type": "code",
   "execution_count": 42,
   "id": "2f253d6c",
   "metadata": {},
   "outputs": [
    {
     "data": {
      "text/plain": [
       ".FTSE  ask    0.780578\n",
       "       bid   -0.500866\n",
       "       mid   -0.950928\n",
       ".SX5E  bid   -0.123017\n",
       "BT.L   ask   -1.135774\n",
       "       bid   -0.451556\n",
       "       mid    0.194875\n",
       "dtype: float64"
      ]
     },
     "execution_count": 42,
     "metadata": {},
     "output_type": "execute_result"
    }
   ],
   "source": [
    "series['.FTSE': 'BT.L']"
   ]
  },
  {
   "cell_type": "markdown",
   "id": "a9fd0f73",
   "metadata": {},
   "source": [
    "#### (IV)"
   ]
  },
  {
   "cell_type": "code",
   "execution_count": 46,
   "id": "51566c91",
   "metadata": {},
   "outputs": [
    {
     "data": {
      "text/plain": [
       ".FTSE  ask    0.780578\n",
       "       bid   -0.500866\n",
       "       mid   -0.950928\n",
       ".SX5E  bid   -0.123017\n",
       "BT.L   ask   -1.135774\n",
       "       bid   -0.451556\n",
       "       mid    0.194875\n",
       "dtype: float64"
      ]
     },
     "execution_count": 46,
     "metadata": {},
     "output_type": "execute_result"
    }
   ],
   "source": [
    "series.loc['.FTSE': 'BT.L']"
   ]
  },
  {
   "cell_type": "markdown",
   "id": "85fe6c10",
   "metadata": {},
   "source": [
    "### Index by inner level\n",
    "We can also index by inner level as follows"
   ]
  },
  {
   "cell_type": "markdown",
   "id": "35654b79",
   "metadata": {},
   "source": [
    "#### (I)"
   ]
  },
  {
   "cell_type": "code",
   "execution_count": 47,
   "id": "cb1b9a3a",
   "metadata": {},
   "outputs": [
    {
     "data": {
      "text/plain": [
       ".FTSE  ask    0.780578\n",
       "       bid   -0.500866\n",
       ".SX5E  bid   -0.123017\n",
       "BT.L   ask   -1.135774\n",
       "       bid   -0.451556\n",
       "VOD.L  ask    0.007611\n",
       "       bid    0.744661\n",
       "dtype: float64"
      ]
     },
     "execution_count": 47,
     "metadata": {},
     "output_type": "execute_result"
    }
   ],
   "source": [
    "series.loc[:,'ask':'bid']"
   ]
  },
  {
   "cell_type": "markdown",
   "id": "7bef6e2a",
   "metadata": {},
   "source": [
    "#### (II)"
   ]
  },
  {
   "cell_type": "code",
   "execution_count": 48,
   "id": "090547ea",
   "metadata": {},
   "outputs": [
    {
     "data": {
      "text/plain": [
       ".FTSE  ask    0.780578\n",
       "       bid   -0.500866\n",
       ".SX5E  bid   -0.123017\n",
       "BT.L   ask   -1.135774\n",
       "       bid   -0.451556\n",
       "VOD.L  ask    0.007611\n",
       "       bid    0.744661\n",
       "dtype: float64"
      ]
     },
     "execution_count": 48,
     "metadata": {},
     "output_type": "execute_result"
    }
   ],
   "source": [
    "series.loc[:,['ask','bid']]"
   ]
  },
  {
   "cell_type": "markdown",
   "id": "33b1b161",
   "metadata": {},
   "source": [
    "### Stacking and Unstacking"
   ]
  },
  {
   "cell_type": "markdown",
   "id": "e68d4b2e",
   "metadata": {},
   "source": [
    "#### Unstacking"
   ]
  },
  {
   "cell_type": "markdown",
   "id": "9f673bbc",
   "metadata": {},
   "source": [
    "We can unstack a Series into a DataFrame. The outer level becomes the DataFrame index and the inner level becomes the DataFrame column index"
   ]
  },
  {
   "cell_type": "code",
   "execution_count": 52,
   "id": "96998626",
   "metadata": {},
   "outputs": [
    {
     "data": {
      "text/html": [
       "<div>\n",
       "<style scoped>\n",
       "    .dataframe tbody tr th:only-of-type {\n",
       "        vertical-align: middle;\n",
       "    }\n",
       "\n",
       "    .dataframe tbody tr th {\n",
       "        vertical-align: top;\n",
       "    }\n",
       "\n",
       "    .dataframe thead th {\n",
       "        text-align: right;\n",
       "    }\n",
       "</style>\n",
       "<table border=\"1\" class=\"dataframe\">\n",
       "  <thead>\n",
       "    <tr style=\"text-align: right;\">\n",
       "      <th></th>\n",
       "      <th>ask</th>\n",
       "      <th>bid</th>\n",
       "      <th>mid</th>\n",
       "    </tr>\n",
       "  </thead>\n",
       "  <tbody>\n",
       "    <tr>\n",
       "      <th>.FTSE</th>\n",
       "      <td>0.780578</td>\n",
       "      <td>-0.500866</td>\n",
       "      <td>-0.950928</td>\n",
       "    </tr>\n",
       "    <tr>\n",
       "      <th>.SX5E</th>\n",
       "      <td>NaN</td>\n",
       "      <td>-0.123017</td>\n",
       "      <td>NaN</td>\n",
       "    </tr>\n",
       "    <tr>\n",
       "      <th>BT.L</th>\n",
       "      <td>-1.135774</td>\n",
       "      <td>-0.451556</td>\n",
       "      <td>0.194875</td>\n",
       "    </tr>\n",
       "    <tr>\n",
       "      <th>VOD.L</th>\n",
       "      <td>0.007611</td>\n",
       "      <td>0.744661</td>\n",
       "      <td>0.027464</td>\n",
       "    </tr>\n",
       "  </tbody>\n",
       "</table>\n",
       "</div>"
      ],
      "text/plain": [
       "            ask       bid       mid\n",
       ".FTSE  0.780578 -0.500866 -0.950928\n",
       ".SX5E       NaN -0.123017       NaN\n",
       "BT.L  -1.135774 -0.451556  0.194875\n",
       "VOD.L  0.007611  0.744661  0.027464"
      ]
     },
     "execution_count": 52,
     "metadata": {},
     "output_type": "execute_result"
    }
   ],
   "source": [
    "series.unstack()"
   ]
  },
  {
   "cell_type": "markdown",
   "id": "f0e057d1",
   "metadata": {},
   "source": [
    "## Hierarchical Indices and DataFrame objects"
   ]
  },
  {
   "cell_type": "markdown",
   "id": "4c1a334f",
   "metadata": {},
   "source": [
    "A DataFrame's index and column index can both be hierarchical "
   ]
  },
  {
   "cell_type": "code",
   "execution_count": 36,
   "id": "05caca43",
   "metadata": {},
   "outputs": [
    {
     "data": {
      "text/html": [
       "<div>\n",
       "<style scoped>\n",
       "    .dataframe tbody tr th:only-of-type {\n",
       "        vertical-align: middle;\n",
       "    }\n",
       "\n",
       "    .dataframe tbody tr th {\n",
       "        vertical-align: top;\n",
       "    }\n",
       "\n",
       "    .dataframe thead tr th {\n",
       "        text-align: left;\n",
       "    }\n",
       "</style>\n",
       "<table border=\"1\" class=\"dataframe\">\n",
       "  <thead>\n",
       "    <tr>\n",
       "      <th></th>\n",
       "      <th></th>\n",
       "      <th colspan=\"2\" halign=\"left\">2021-01-01</th>\n",
       "      <th colspan=\"2\" halign=\"left\">2021-01-02</th>\n",
       "    </tr>\n",
       "    <tr>\n",
       "      <th></th>\n",
       "      <th></th>\n",
       "      <th>bid</th>\n",
       "      <th>ask</th>\n",
       "      <th>bid</th>\n",
       "      <th>ask</th>\n",
       "    </tr>\n",
       "  </thead>\n",
       "  <tbody>\n",
       "    <tr>\n",
       "      <th rowspan=\"2\" valign=\"top\">GBP</th>\n",
       "      <th>BT</th>\n",
       "      <td>0.015253</td>\n",
       "      <td>1.284388</td>\n",
       "      <td>0.070362</td>\n",
       "      <td>0.347758</td>\n",
       "    </tr>\n",
       "    <tr>\n",
       "      <th>VOD</th>\n",
       "      <td>0.024992</td>\n",
       "      <td>-1.129850</td>\n",
       "      <td>-1.517904</td>\n",
       "      <td>0.629708</td>\n",
       "    </tr>\n",
       "    <tr>\n",
       "      <th rowspan=\"2\" valign=\"top\">USD</th>\n",
       "      <th>AAA</th>\n",
       "      <td>-1.257783</td>\n",
       "      <td>-0.389574</td>\n",
       "      <td>0.402573</td>\n",
       "      <td>0.046667</td>\n",
       "    </tr>\n",
       "    <tr>\n",
       "      <th>MSFT</th>\n",
       "      <td>-1.108315</td>\n",
       "      <td>1.410324</td>\n",
       "      <td>1.896382</td>\n",
       "      <td>1.209533</td>\n",
       "    </tr>\n",
       "  </tbody>\n",
       "</table>\n",
       "</div>"
      ],
      "text/plain": [
       "         2021-01-01           2021-01-02          \n",
       "                bid       ask        bid       ask\n",
       "GBP BT     0.015253  1.284388   0.070362  0.347758\n",
       "    VOD    0.024992 -1.129850  -1.517904  0.629708\n",
       "USD AAA   -1.257783 -0.389574   0.402573  0.046667\n",
       "    MSFT  -1.108315  1.410324   1.896382  1.209533"
      ]
     },
     "execution_count": 36,
     "metadata": {},
     "output_type": "execute_result"
    }
   ],
   "source": [
    "data = np.random.standard_normal(16).reshape(4,4)\n",
    "\n",
    "index = [['GBP','GBP','USD','USD'],['VOD','BT','MSFT', 'AAA']]\n",
    "colIndex = [['2021-01-01','2021-01-01','2021-01-02','2021-01-02'],['bid','ask','bid','ask']]\n",
    "\n",
    "df1 = pd.DataFrame(data,index=index, columns=colIndex)\n",
    "df1 = df1.sort_index()\n",
    "df1"
   ]
  },
  {
   "cell_type": "markdown",
   "id": "638fcfbc",
   "metadata": {},
   "source": [
    "### Indexing\n",
    "Indexing with multi-level indices on both column and row becomes a bit syntactically challenging. The key point is each axis takes a tuple of values for the key parts"
   ]
  },
  {
   "cell_type": "code",
   "execution_count": 29,
   "id": "60bc031d",
   "metadata": {},
   "outputs": [
    {
     "data": {
      "text/plain": [
       "1.0419965575377923"
      ]
     },
     "execution_count": 29,
     "metadata": {},
     "output_type": "execute_result"
    }
   ],
   "source": [
    "df1.loc[('GBP','VOD'),('2021-01-01','bid')]"
   ]
  },
  {
   "cell_type": "code",
   "execution_count": 30,
   "id": "a00a2955",
   "metadata": {},
   "outputs": [],
   "source": [
    "#### Slices"
   ]
  },
  {
   "cell_type": "code",
   "execution_count": 37,
   "id": "f67ff2e1",
   "metadata": {},
   "outputs": [
    {
     "data": {
      "text/html": [
       "<div>\n",
       "<style scoped>\n",
       "    .dataframe tbody tr th:only-of-type {\n",
       "        vertical-align: middle;\n",
       "    }\n",
       "\n",
       "    .dataframe tbody tr th {\n",
       "        vertical-align: top;\n",
       "    }\n",
       "\n",
       "    .dataframe thead tr th {\n",
       "        text-align: left;\n",
       "    }\n",
       "</style>\n",
       "<table border=\"1\" class=\"dataframe\">\n",
       "  <thead>\n",
       "    <tr>\n",
       "      <th></th>\n",
       "      <th></th>\n",
       "      <th colspan=\"2\" halign=\"left\">2021-01-01</th>\n",
       "      <th colspan=\"2\" halign=\"left\">2021-01-02</th>\n",
       "    </tr>\n",
       "    <tr>\n",
       "      <th></th>\n",
       "      <th></th>\n",
       "      <th>bid</th>\n",
       "      <th>ask</th>\n",
       "      <th>bid</th>\n",
       "      <th>ask</th>\n",
       "    </tr>\n",
       "  </thead>\n",
       "  <tbody>\n",
       "    <tr>\n",
       "      <th rowspan=\"2\" valign=\"top\">GBP</th>\n",
       "      <th>BT</th>\n",
       "      <td>0.015253</td>\n",
       "      <td>1.284388</td>\n",
       "      <td>0.070362</td>\n",
       "      <td>0.347758</td>\n",
       "    </tr>\n",
       "    <tr>\n",
       "      <th>VOD</th>\n",
       "      <td>0.024992</td>\n",
       "      <td>-1.129850</td>\n",
       "      <td>-1.517904</td>\n",
       "      <td>0.629708</td>\n",
       "    </tr>\n",
       "  </tbody>\n",
       "</table>\n",
       "</div>"
      ],
      "text/plain": [
       "        2021-01-01           2021-01-02          \n",
       "               bid       ask        bid       ask\n",
       "GBP BT    0.015253  1.284388   0.070362  0.347758\n",
       "    VOD   0.024992 -1.129850  -1.517904  0.629708"
      ]
     },
     "execution_count": 37,
     "metadata": {},
     "output_type": "execute_result"
    }
   ],
   "source": [
    "df1.loc[('GBP','BT'):('GBP','VOD')]"
   ]
  }
 ],
 "metadata": {
  "kernelspec": {
   "display_name": "Python 3 (ipykernel)",
   "language": "python",
   "name": "python3"
  },
  "language_info": {
   "codemirror_mode": {
    "name": "ipython",
    "version": 3
   },
   "file_extension": ".py",
   "mimetype": "text/x-python",
   "name": "python",
   "nbconvert_exporter": "python",
   "pygments_lexer": "ipython3",
   "version": "3.9.13"
  }
 },
 "nbformat": 4,
 "nbformat_minor": 5
}
